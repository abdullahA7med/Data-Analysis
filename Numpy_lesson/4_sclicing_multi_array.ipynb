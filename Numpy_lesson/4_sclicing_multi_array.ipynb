{
 "cells": [
  {
   "cell_type": "markdown",
   "id": "0e1e7317-a4ae-404f-8999-d0ac93018f1f",
   "metadata": {},
   "source": [
    "# Numpy"
   ]
  },
  {
   "cell_type": "markdown",
   "id": "a3753273-5d54-4985-b629-7bd9aa73a2ba",
   "metadata": {},
   "source": [
    "## Slicing multi Array.\n",
    "\n",
    "- multi dimentional -> from **2D or more**"
   ]
  },
  {
   "cell_type": "code",
   "execution_count": 1,
   "id": "950570f2-c589-4f74-9fd0-b35b895aba56",
   "metadata": {},
   "outputs": [],
   "source": [
    "import numpy as np"
   ]
  },
  {
   "cell_type": "code",
   "execution_count": 5,
   "id": "a470e052-c4d8-472c-8cbf-fe4ec9f7f8da",
   "metadata": {},
   "outputs": [
    {
     "data": {
      "text/plain": [
       "array([[ 1,  2,  3,  4,  5],\n",
       "       [ 1,  3, 21, 32, 23],\n",
       "       [33, 40, 43, 21, 11]])"
      ]
     },
     "execution_count": 5,
     "metadata": {},
     "output_type": "execute_result"
    }
   ],
   "source": [
    "x2 = np.array([[1,2,3,4,5],[1,3,21,32,23],[33,40,43,21,11]]) # this is 2D array. | with 3Rows & 5Colums\n",
    "\n",
    "x2"
   ]
  },
  {
   "cell_type": "markdown",
   "id": "e5385fc3-a131-46d7-9f8d-cb680a347a77",
   "metadata": {},
   "source": [
    "**How can i do**\n",
    "\n",
    "array[num_row , num_column]"
   ]
  },
  {
   "cell_type": "code",
   "execution_count": 6,
   "id": "2406bcfe-ff76-4f99-a036-1342507c252f",
   "metadata": {},
   "outputs": [
    {
     "data": {
      "text/plain": [
       "np.int64(2)"
      ]
     },
     "execution_count": 6,
     "metadata": {},
     "output_type": "execute_result"
    }
   ],
   "source": [
    "x2[0,1] #return ->2"
   ]
  },
  {
   "cell_type": "code",
   "execution_count": 7,
   "id": "60e480bd-b381-4e4c-8937-b22456579800",
   "metadata": {},
   "outputs": [
    {
     "data": {
      "text/plain": [
       "array([[ 1,  3, 21],\n",
       "       [33, 40, 43]])"
      ]
     },
     "execution_count": 7,
     "metadata": {},
     "output_type": "execute_result"
    }
   ],
   "source": [
    "#[1, 3, 21]\n",
    "#[33,40,43]\n",
    "x2[1:,0:3] "
   ]
  },
  {
   "cell_type": "code",
   "execution_count": 15,
   "id": "0c7aae3d-1c99-4dda-bb61-b9014f4eac67",
   "metadata": {},
   "outputs": [
    {
     "data": {
      "text/plain": [
       "array([[ 1,  3,  5],\n",
       "       [33, 43, 11]])"
      ]
     },
     "execution_count": 15,
     "metadata": {},
     "output_type": "execute_result"
    }
   ],
   "source": [
    "x2[::2,::2]"
   ]
  },
  {
   "cell_type": "markdown",
   "id": "2b1f8e7b-7840-408d-9e4b-9012bfcb6cb9",
   "metadata": {},
   "source": [
    "# The End 👍🏻."
   ]
  }
 ],
 "metadata": {
  "kernelspec": {
   "display_name": "Python 3 (ipykernel)",
   "language": "python",
   "name": "python3"
  },
  "language_info": {
   "codemirror_mode": {
    "name": "ipython",
    "version": 3
   },
   "file_extension": ".py",
   "mimetype": "text/x-python",
   "name": "python",
   "nbconvert_exporter": "python",
   "pygments_lexer": "ipython3",
   "version": "3.12.3"
  }
 },
 "nbformat": 4,
 "nbformat_minor": 5
}
