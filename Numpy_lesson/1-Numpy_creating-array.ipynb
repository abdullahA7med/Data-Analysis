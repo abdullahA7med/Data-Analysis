{
 "cells": [
  {
   "cell_type": "markdown",
   "id": "e96ad97d-d578-4cc1-8b06-2340bb17d10a",
   "metadata": {},
   "source": [
    "# Numpy\n",
    "\n",
    "### why we use numpy:\n",
    "    - deal with numerical data.\n",
    "    - handel matrixs, fast than list\n",
    "    - very wise (elemint wise).\n",
    "\n",
    "**wellcome**\n",
    "lesson:1"
   ]
  },
  {
   "cell_type": "markdown",
   "id": "1b1a8f63-082d-42fb-918a-7f9c105d22f8",
   "metadata": {},
   "source": [
    "**matrix info**\n",
    "one of reson to use numpy it deal with matrix.\n",
    "\n",
    "**matrix type:**\n",
    "\n",
    "- scalar (0D) => [5]\n",
    "\n",
    "- vector (1D) | one row with multi column | multi rows with one column\n",
    "  => [1,2,3,4] | [1]\n",
    "                 [2]\n",
    "                 [3]   \n",
    "                 [4]    \n",
    " ..........................\n",
    "\n",
    "- matrix (2D / 3D)\n",
    "\n",
    "  \n",
    "\n",
    "\n"
   ]
  },
  {
   "cell_type": "code",
   "execution_count": 1,
   "id": "b39128c1-4072-4e2e-bc6b-f47fbe4003fa",
   "metadata": {},
   "outputs": [],
   "source": [
    "import numpy as np"
   ]
  },
  {
   "cell_type": "markdown",
   "id": "505a8aa7-8137-4dce-811b-de9f359949e2",
   "metadata": {},
   "source": [
    "## Creating numpy arrays"
   ]
  },
  {
   "cell_type": "markdown",
   "id": "6606d1b4-cb4e-4f9e-a2a2-34044adc3786",
   "metadata": {},
   "source": [
    "### from Python List"
   ]
  },
  {
   "cell_type": "code",
   "execution_count": 2,
   "id": "87a80bd0-d34a-46a6-a5c1-5254110e99e9",
   "metadata": {},
   "outputs": [
    {
     "data": {
      "text/plain": [
       "array([ 1,  2,  3,  4,  5, 64,  4,  3])"
      ]
     },
     "execution_count": 2,
     "metadata": {},
     "output_type": "execute_result"
    }
   ],
   "source": [
    "# np.array([list elemint])\n",
    "\n",
    "np.array([1,2,3,4,5,64,4,3])"
   ]
  },
  {
   "cell_type": "code",
   "execution_count": 3,
   "id": "2c1e4eda-d8c0-4e7e-ac8f-c7ec6800751f",
   "metadata": {},
   "outputs": [
    {
     "data": {
      "text/plain": [
       "array([ 33., 342.,   1.,  12.,  42.,  90.], dtype=float32)"
      ]
     },
     "execution_count": 3,
     "metadata": {},
     "output_type": "execute_result"
    }
   ],
   "source": [
    "# we can change type of data -> using ==> dtype\n",
    "np.array([33,342,1,12,42,90],dtype='float32')"
   ]
  },
  {
   "cell_type": "markdown",
   "id": "f61cb1ab-5fa5-4689-a86d-9520f1d80e3b",
   "metadata": {},
   "source": [
    "....................................\n",
    "\n",
    "### from scratch"
   ]
  },
  {
   "cell_type": "code",
   "execution_count": 4,
   "id": "fa75d93c-6fd8-4317-9288-385264efd39a",
   "metadata": {},
   "outputs": [
    {
     "name": "stdout",
     "output_type": "stream",
     "text": [
      "[[0. 0. 0.]\n",
      " [0. 0. 0.]]\n",
      "\n",
      "\n",
      "[[0 0 0]\n",
      " [0 0 0]\n",
      " [0 0 0]]\n"
     ]
    }
   ],
   "source": [
    "# creat array full by zero\n",
    "# np.zeros((shape),dtype) | dtype is optional\n",
    "print(np.zeros((2,3)))\n",
    "print('\\n')\n",
    "print(np.zeros((3,3),dtype='int'))"
   ]
  },
  {
   "cell_type": "code",
   "execution_count": 5,
   "id": "9e7e5680-b166-43b5-b343-51796bd0cd73",
   "metadata": {},
   "outputs": [
    {
     "data": {
      "text/plain": [
       "array([[1., 1.],\n",
       "       [1., 1.]])"
      ]
     },
     "execution_count": 5,
     "metadata": {},
     "output_type": "execute_result"
    }
   ],
   "source": [
    "# \n",
    "# creat array full by one\n",
    "np.ones((2,2))"
   ]
  },
  {
   "cell_type": "code",
   "execution_count": 6,
   "id": "b03c8f2e-f030-4012-b154-19ca975ddbdc",
   "metadata": {},
   "outputs": [
    {
     "data": {
      "text/plain": [
       "array([[21, 21, 21, 21],\n",
       "       [21, 21, 21, 21],\n",
       "       [21, 21, 21, 21]])"
      ]
     },
     "execution_count": 6,
     "metadata": {},
     "output_type": "execute_result"
    }
   ],
   "source": [
    "\n",
    "# create array by specific value -> np.full((shape),fill_val)\n",
    "np.full((3,4),21)"
   ]
  },
  {
   "cell_type": "code",
   "execution_count": 7,
   "id": "db8ca9fc-1f8c-4fb1-b063-194161a531f1",
   "metadata": {},
   "outputs": [
    {
     "data": {
      "text/plain": [
       "array([0, 1, 2, 3, 4, 5, 6, 7, 8, 9])"
      ]
     },
     "execution_count": 7,
     "metadata": {},
     "output_type": "execute_result"
    }
   ],
   "source": [
    "\n",
    "# creat array in specific range => np.arange(start, stop, step)\n",
    "# np.array(10)\n",
    "np.arange(0,10)"
   ]
  },
  {
   "cell_type": "code",
   "execution_count": 8,
   "id": "faa6fa3a-296b-4c78-96c1-41aa4e640355",
   "metadata": {},
   "outputs": [
    {
     "data": {
      "text/plain": [
       "array([[0.33442489, 0.52430205],\n",
       "       [0.39359317, 0.83900364],\n",
       "       [0.24195397, 0.22318663]])"
      ]
     },
     "execution_count": 8,
     "metadata": {},
     "output_type": "execute_result"
    }
   ],
   "source": [
    "\n",
    "# create random array. -> np.random.random((size))\n",
    "np.random.random((3,2))"
   ]
  },
  {
   "cell_type": "code",
   "execution_count": 9,
   "id": "81897832-3d25-4cc2-bfac-d8cd7dc7daf7",
   "metadata": {},
   "outputs": [
    {
     "data": {
      "text/plain": [
       "array([[-0.75658403,  0.17248016],\n",
       "       [ 1.13062874,  1.21490965]])"
      ]
     },
     "execution_count": 9,
     "metadata": {},
     "output_type": "execute_result"
    }
   ],
   "source": [
    "np.random.normal(0,1,(2,2))"
   ]
  },
  {
   "cell_type": "code",
   "execution_count": 10,
   "id": "60e5f1e0-3fb8-4fc3-8086-85a7e180196c",
   "metadata": {},
   "outputs": [
    {
     "data": {
      "text/plain": [
       "array([[2, 2, 6],\n",
       "       [3, 4, 4],\n",
       "       [2, 4, 5]])"
      ]
     },
     "execution_count": 10,
     "metadata": {},
     "output_type": "execute_result"
    }
   ],
   "source": [
    "np.random.randint(1,9,(3,3))"
   ]
  },
  {
   "cell_type": "markdown",
   "id": "f271ac92-26bf-4442-8478-49a014a46b56",
   "metadata": {},
   "source": [
    "---------------------------\n",
    "\n",
    "------------------------"
   ]
  },
  {
   "cell_type": "markdown",
   "id": "2f49031d-87cc-4f44-8217-1f038d3cbd35",
   "metadata": {},
   "source": [
    "## creating matrix (2D | 3D)"
   ]
  },
  {
   "cell_type": "code",
   "execution_count": 12,
   "id": "44f4f887-42ba-4d80-b200-96a82d401633",
   "metadata": {},
   "outputs": [
    {
     "data": {
      "text/plain": [
       "array([[1, 2, 3, 4],\n",
       "       [5, 6, 7, 8]])"
      ]
     },
     "execution_count": 12,
     "metadata": {},
     "output_type": "execute_result"
    }
   ],
   "source": [
    "d2 = np.array([[1,2,3,4],[5,6,7,8]])\n",
    "d2"
   ]
  },
  {
   "cell_type": "code",
   "execution_count": 13,
   "id": "6cb7013c-642b-4400-829a-f700cc67c3bc",
   "metadata": {},
   "outputs": [
    {
     "data": {
      "text/plain": [
       "2"
      ]
     },
     "execution_count": 13,
     "metadata": {},
     "output_type": "execute_result"
    }
   ],
   "source": [
    "d2.ndim"
   ]
  },
  {
   "cell_type": "code",
   "execution_count": 14,
   "id": "9021471f-29e7-4972-9d85-829120ba1e41",
   "metadata": {},
   "outputs": [
    {
     "data": {
      "text/plain": [
       "array([[[  1, 232,  44],\n",
       "        [  1,  11, 223],\n",
       "        [ 34,  54,  23]]])"
      ]
     },
     "execution_count": 14,
     "metadata": {},
     "output_type": "execute_result"
    }
   ],
   "source": [
    "d3 = np.array([[[1,232,44],[1,11,223],[34,54,23]]])\n",
    "d3"
   ]
  },
  {
   "cell_type": "code",
   "execution_count": 15,
   "id": "9950c2e6-98d8-456b-89ef-ef237045439d",
   "metadata": {},
   "outputs": [
    {
     "data": {
      "text/plain": [
       "3"
      ]
     },
     "execution_count": 15,
     "metadata": {},
     "output_type": "execute_result"
    }
   ],
   "source": [
    "d3.ndim"
   ]
  },
  {
   "cell_type": "markdown",
   "id": "be370c91-48f7-49fd-95c9-b50ac334775b",
   "metadata": {},
   "source": [
    "## The End!"
   ]
  }
 ],
 "metadata": {
  "kernelspec": {
   "display_name": "Python 3 (ipykernel)",
   "language": "python",
   "name": "python3"
  },
  "language_info": {
   "codemirror_mode": {
    "name": "ipython",
    "version": 3
   },
   "file_extension": ".py",
   "mimetype": "text/x-python",
   "name": "python",
   "nbconvert_exporter": "python",
   "pygments_lexer": "ipython3",
   "version": "3.12.3"
  }
 },
 "nbformat": 4,
 "nbformat_minor": 5
}
