{
 "cells": [
  {
   "cell_type": "markdown",
   "id": "582f0168-91a1-4fa2-9d1f-52fa752b21f8",
   "metadata": {},
   "source": [
    "# Numpy\n",
    "\n",
    "lesson 2 \n",
    "**numpy array attriputes and indexing**"
   ]
  },
  {
   "cell_type": "code",
   "execution_count": 1,
   "id": "6bd0677c-0886-47a0-b6c6-7a9f4412ca08",
   "metadata": {},
   "outputs": [],
   "source": [
    "import numpy as np"
   ]
  },
  {
   "cell_type": "markdown",
   "id": "edaf23f6-58a7-4f8d-a686-641abe490df1",
   "metadata": {},
   "source": [
    "## Numpy Array Attributes\n",
    "- **what is the attriputes that used to get info about array**\n",
    "    - EX:\n",
    "        - ndim    => return dimentional number.\n",
    "        - shape   => return the shape of array.\n",
    "        - size    => return size of my array.\n"
   ]
  },
  {
   "cell_type": "code",
   "execution_count": 2,
   "id": "daee2910-9250-4f44-a6a0-40e82b8c1b36",
   "metadata": {},
   "outputs": [
    {
     "data": {
      "text/plain": [
       "array([[[0., 0., 0., 0.],\n",
       "        [0., 0., 0., 0.],\n",
       "        [0., 0., 0., 0.],\n",
       "        [0., 0., 0., 0.]],\n",
       "\n",
       "       [[0., 0., 0., 0.],\n",
       "        [0., 0., 0., 0.],\n",
       "        [0., 0., 0., 0.],\n",
       "        [0., 0., 0., 0.]]])"
      ]
     },
     "execution_count": 2,
     "metadata": {},
     "output_type": "execute_result"
    }
   ],
   "source": [
    "z = np.zeros((2,4,4))\n",
    "z"
   ]
  },
  {
   "cell_type": "code",
   "execution_count": 3,
   "id": "bbedd271-b823-4f0d-8212-39e9f483140f",
   "metadata": {},
   "outputs": [
    {
     "data": {
      "text/plain": [
       "3"
      ]
     },
     "execution_count": 3,
     "metadata": {},
     "output_type": "execute_result"
    }
   ],
   "source": [
    "z.ndim"
   ]
  },
  {
   "cell_type": "code",
   "execution_count": 4,
   "id": "12d6a484-674b-4be0-b995-a43c2f337881",
   "metadata": {},
   "outputs": [
    {
     "data": {
      "text/plain": [
       "(2, 4, 4)"
      ]
     },
     "execution_count": 4,
     "metadata": {},
     "output_type": "execute_result"
    }
   ],
   "source": [
    "z.shape"
   ]
  },
  {
   "cell_type": "code",
   "execution_count": 5,
   "id": "294d8e2c-ca73-473e-8a90-c425c9001c9d",
   "metadata": {},
   "outputs": [
    {
     "data": {
      "text/plain": [
       "32"
      ]
     },
     "execution_count": 5,
     "metadata": {},
     "output_type": "execute_result"
    }
   ],
   "source": [
    "z.size"
   ]
  },
  {
   "cell_type": "markdown",
   "id": "550c48ac-7b0c-4279-9dda-b96dc84b9182",
   "metadata": {},
   "source": [
    "----------------------------\n",
    "\n",
    "----------------------------"
   ]
  },
  {
   "cell_type": "markdown",
   "id": "6a7e7015-54e8-472f-b56c-ddc8ea69cb50",
   "metadata": {},
   "source": [
    "## Numpy array indexing"
   ]
  },
  {
   "cell_type": "code",
   "execution_count": 7,
   "id": "a025fe00-80cb-44fe-a2c9-f3fb99ab065e",
   "metadata": {},
   "outputs": [
    {
     "data": {
      "text/plain": [
       "array([1, 2, 3, 4, 5, 1, 2, 3])"
      ]
     },
     "execution_count": 7,
     "metadata": {},
     "output_type": "execute_result"
    }
   ],
   "source": [
    "x1 = np.array([1,2,3,4,5,1,2,3])\n",
    "x1"
   ]
  },
  {
   "cell_type": "code",
   "execution_count": 8,
   "id": "97f1bc73-bc46-4b41-99e0-e94a86099fc7",
   "metadata": {},
   "outputs": [
    {
     "data": {
      "text/plain": [
       "np.int64(1)"
      ]
     },
     "execution_count": 8,
     "metadata": {},
     "output_type": "execute_result"
    }
   ],
   "source": [
    "\n",
    "# get first elemint\n",
    "x1[0]"
   ]
  },
  {
   "cell_type": "code",
   "execution_count": 9,
   "id": "c057a17d-dc97-4740-836e-14f5843fd295",
   "metadata": {},
   "outputs": [
    {
     "data": {
      "text/plain": [
       "np.int64(2)"
      ]
     },
     "execution_count": 9,
     "metadata": {},
     "output_type": "execute_result"
    }
   ],
   "source": [
    "\n",
    "# get sec elemint\n",
    "x1[1]"
   ]
  },
  {
   "cell_type": "code",
   "execution_count": 10,
   "id": "faf2e85c-a741-4d4f-b5e5-cdba8c1bc657",
   "metadata": {},
   "outputs": [
    {
     "data": {
      "text/plain": [
       "np.int64(3)"
      ]
     },
     "execution_count": 10,
     "metadata": {},
     "output_type": "execute_result"
    }
   ],
   "source": [
    "x1[-1]"
   ]
  },
  {
   "cell_type": "markdown",
   "id": "b752ebf2-cc35-4a3a-92ef-3cd5c952bf9f",
   "metadata": {},
   "source": [
    "--------------\n",
    "\n",
    "**indexing mulit dimentional**"
   ]
  },
  {
   "cell_type": "code",
   "execution_count": 11,
   "id": "be8e5159-52ca-4de3-a0cb-c52c635accb3",
   "metadata": {},
   "outputs": [
    {
     "data": {
      "text/plain": [
       "array([[11,  2, 31, 33],\n",
       "       [12, 31, 11, 34]])"
      ]
     },
     "execution_count": 11,
     "metadata": {},
     "output_type": "execute_result"
    }
   ],
   "source": [
    "x2 = np.array([[11,2,31,33],[12,31,11,34]])\n",
    "x2"
   ]
  },
  {
   "cell_type": "code",
   "execution_count": 13,
   "id": "f6ac92cc-e060-464a-a0af-bcc3515eafda",
   "metadata": {},
   "outputs": [
    {
     "data": {
      "text/plain": [
       "np.int64(31)"
      ]
     },
     "execution_count": 13,
     "metadata": {},
     "output_type": "execute_result"
    }
   ],
   "source": [
    "# array[num_Row, num_column]\n",
    "\n",
    "x2[0,2] #31"
   ]
  },
  {
   "cell_type": "markdown",
   "id": "9027478d-2e26-4763-a016-1677187a727e",
   "metadata": {},
   "source": [
    "------------------------\n",
    "\n",
    "------------------------\n",
    "\n",
    "## The End !."
   ]
  }
 ],
 "metadata": {
  "kernelspec": {
   "display_name": "Python 3 (ipykernel)",
   "language": "python",
   "name": "python3"
  },
  "language_info": {
   "codemirror_mode": {
    "name": "ipython",
    "version": 3
   },
   "file_extension": ".py",
   "mimetype": "text/x-python",
   "name": "python",
   "nbconvert_exporter": "python",
   "pygments_lexer": "ipython3",
   "version": "3.12.3"
  }
 },
 "nbformat": 4,
 "nbformat_minor": 5
}
