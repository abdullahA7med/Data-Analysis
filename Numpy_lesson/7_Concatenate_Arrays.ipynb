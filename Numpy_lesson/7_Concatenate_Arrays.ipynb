{
 "cells": [
  {
   "cell_type": "markdown",
   "id": "6c318bed-030d-48f7-a7f1-df5cd336d6d1",
   "metadata": {},
   "source": [
    "# Numpy"
   ]
  },
  {
   "cell_type": "markdown",
   "id": "52819b61-3976-4353-b8ac-6c3820d1885f",
   "metadata": {},
   "source": [
    "## Array Concatenattion."
   ]
  },
  {
   "cell_type": "code",
   "execution_count": 1,
   "id": "96cc0246-f533-4b2f-b624-54a11e61f235",
   "metadata": {},
   "outputs": [],
   "source": [
    "import numpy as np"
   ]
  },
  {
   "cell_type": "code",
   "execution_count": 2,
   "id": "a7ed8be0-fe4a-43b7-8762-1024517fbca0",
   "metadata": {},
   "outputs": [
    {
     "data": {
      "text/plain": [
       "array([ 1,  2,  3,  4,  5,  6,  7,  8,  9, 10])"
      ]
     },
     "execution_count": 2,
     "metadata": {},
     "output_type": "execute_result"
    }
   ],
   "source": [
    "x = np.array([1,2,3,4,5])\n",
    "y = np.array([6,7,8,9,10])\n",
    "np.concatenate((x,y))"
   ]
  },
  {
   "cell_type": "markdown",
   "id": "3d5dc9ad-2964-4cf3-bb6d-68b48220ebe5",
   "metadata": {},
   "source": [
    "------------------\n",
    "\n",
    "------------------"
   ]
  },
  {
   "cell_type": "markdown",
   "id": "9cd5239d-6457-44bc-b218-59bd9ce7c5ea",
   "metadata": {},
   "source": [
    "\n",
    "- in multi array like 2D\n",
    "- we can concatenat by row / column -> using axis parameter."
   ]
  },
  {
   "cell_type": "code",
   "execution_count": 3,
   "id": "af3b714f-71a1-4610-b510-a168a8aa6a6a",
   "metadata": {},
   "outputs": [
    {
     "name": "stdout",
     "output_type": "stream",
     "text": [
      "[[2 2 2]\n",
      " [2 2 2]] \n",
      "\n",
      "\n",
      " [[5 5 5]\n",
      " [5 5 5]]\n"
     ]
    }
   ],
   "source": [
    "\n",
    "# 2D array.\n",
    "\n",
    "c = np.full((2,3),2)\n",
    "d = np.full((2,3),5)\n",
    "\n",
    "print(c,'\\n')\n",
    "print('\\n',d)"
   ]
  },
  {
   "cell_type": "code",
   "execution_count": 4,
   "id": "52fb724e-83ab-4bbd-b8f5-021d2294b11f",
   "metadata": {},
   "outputs": [
    {
     "data": {
      "text/plain": [
       "array([[2, 2, 2],\n",
       "       [2, 2, 2],\n",
       "       [5, 5, 5],\n",
       "       [5, 5, 5]])"
      ]
     },
     "execution_count": 4,
     "metadata": {},
     "output_type": "execute_result"
    }
   ],
   "source": [
    "\n",
    "# concatenat along rows -> axis=0\n",
    "\n",
    "np.concatenate([c,d], axis = 0)"
   ]
  },
  {
   "cell_type": "code",
   "execution_count": 5,
   "id": "8339ba2d-17a4-4286-9a3f-6f2c6a33bc6e",
   "metadata": {},
   "outputs": [
    {
     "data": {
      "text/plain": [
       "array([[2, 2, 2, 5, 5, 5],\n",
       "       [2, 2, 2, 5, 5, 5]])"
      ]
     },
     "execution_count": 5,
     "metadata": {},
     "output_type": "execute_result"
    }
   ],
   "source": [
    "np.concatenate((c,d), axis=1)"
   ]
  },
  {
   "cell_type": "markdown",
   "id": "a7bc2bdd-d041-4ace-92ad-a541ee374058",
   "metadata": {},
   "source": [
    "------------------\n",
    "\n",
    "--------------------"
   ]
  },
  {
   "cell_type": "markdown",
   "id": "187a5f23-2037-4858-b4f5-909640d8f31a",
   "metadata": {},
   "source": [
    "i can use fuction do same -> **stack**"
   ]
  },
  {
   "cell_type": "code",
   "execution_count": 7,
   "id": "1088bbc4-ccdd-414f-b628-e411a149def6",
   "metadata": {},
   "outputs": [
    {
     "data": {
      "text/plain": [
       "array([[ 1,  2,  3,  4,  5],\n",
       "       [ 6,  7,  8,  9, 10]])"
      ]
     },
     "execution_count": 7,
     "metadata": {},
     "output_type": "execute_result"
    }
   ],
   "source": [
    "\n",
    "# vertical stack\n",
    "\n",
    "np.vstack([x,y])"
   ]
  },
  {
   "cell_type": "code",
   "execution_count": 9,
   "id": "f5f219cf-17c8-4c4c-b162-154e474efac8",
   "metadata": {},
   "outputs": [
    {
     "data": {
      "text/plain": [
       "array([ 1,  2,  3,  4,  5,  6,  7,  8,  9, 10])"
      ]
     },
     "execution_count": 9,
     "metadata": {},
     "output_type": "execute_result"
    }
   ],
   "source": [
    "np.hstack([x,y]) # horizontal"
   ]
  },
  {
   "cell_type": "code",
   "execution_count": null,
   "id": "d95ef2f6-c19e-4e75-9ef9-f28f1b89c98a",
   "metadata": {},
   "outputs": [],
   "source": []
  }
 ],
 "metadata": {
  "kernelspec": {
   "display_name": "Python 3 (ipykernel)",
   "language": "python",
   "name": "python3"
  },
  "language_info": {
   "codemirror_mode": {
    "name": "ipython",
    "version": 3
   },
   "file_extension": ".py",
   "mimetype": "text/x-python",
   "name": "python",
   "nbconvert_exporter": "python",
   "pygments_lexer": "ipython3",
   "version": "3.12.3"
  }
 },
 "nbformat": 4,
 "nbformat_minor": 5
}
