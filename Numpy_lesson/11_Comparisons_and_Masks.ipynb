{
 "cells": [
  {
   "cell_type": "markdown",
   "id": "03dbd5a6-e087-4717-8b50-f9e75a7396e4",
   "metadata": {},
   "source": [
    "# Numpy"
   ]
  },
  {
   "cell_type": "markdown",
   "id": "1137e2c6-88d5-45d5-8d62-b70fc9388faf",
   "metadata": {},
   "source": [
    "## Comparisons, masks and Boolean Logic \n",
    "\n",
    "**this lesson is very intereting** to summary my data\n",
    "\n",
    "link of DataSet: https://www.kaggle.com/datasets/rtatman/did-it-rain-in-seattle-19482017"
   ]
  },
  {
   "cell_type": "code",
   "execution_count": 1,
   "id": "d573b411-2acf-493d-a7cf-b11987f33d6b",
   "metadata": {},
   "outputs": [],
   "source": [
    "import numpy as np\n",
    "import pandas as pd\n",
    "import matplotlib.pyplot as plt\n",
    "import seaborn; seaborn.set()"
   ]
  },
  {
   "cell_type": "code",
   "execution_count": 2,
   "id": "de227bef-ef81-42c5-8d3e-15cf9b6e1a68",
   "metadata": {},
   "outputs": [],
   "source": [
    "df = pd.read_csv('seattleWeather_1948-2017.csv', parse_dates = [0]) [['DATE','PRCP']]\n",
    "rainfall = df[df['DATE'].dt.year == 2016]['PRCP'].values"
   ]
  },
  {
   "cell_type": "code",
   "execution_count": 3,
   "id": "10691918-37e3-44cc-bb2c-9ba23d4eeb58",
   "metadata": {},
   "outputs": [
    {
     "data": {
      "image/png": "[encoded data removed]",
      "text/plain": [
       "<Figure size 640x480 with 1 Axes>"
      ]
     },
     "metadata": {},
     "output_type": "display_data"
    }
   ],
   "source": [
    "plt.hist(rainfall,bins=30)\n",
    "plt.title('Rainfall')\n",
    "plt.xlabel('PRCP')\n",
    "plt.ylabel('Frequency');"
   ]
  },
  {
   "cell_type": "markdown",
   "id": "080bcb7d-0d75-49d0-8b51-e3f7e51d4be3",
   "metadata": {},
   "source": [
    "\n",
    "**Some question we need to solve**\n",
    "\n",
    "- How many rainy days were there in the year?\n",
    "- What is the average precipitation on those rainy days?\n",
    "- How many days were there with more than half an inch of rain?"
   ]
  },
  {
   "cell_type": "markdown",
   "id": "be956a33-0e21-4efd-8ecf-174a4bd7f719",
   "metadata": {},
   "source": [
    "#### Let's simplify it\n",
    "\n",
    "    here you learn extract elemint that match your condition (you need it)\n",
    "\n",
    "    We do that by example."
   ]
  },
  {
   "cell_type": "code",
   "execution_count": 4,
   "id": "53125db8-45e1-48f9-99ff-41e3e4ee4222",
   "metadata": {},
   "outputs": [],
   "source": [
    "x = np.array([1,2,3,4,5])"
   ]
  },
  {
   "cell_type": "code",
   "execution_count": 5,
   "id": "8fb0b432-1a56-4fc2-b1e6-224eee3b8014",
   "metadata": {},
   "outputs": [
    {
     "data": {
      "text/plain": [
       "array([ True,  True, False, False, False])"
      ]
     },
     "execution_count": 5,
     "metadata": {},
     "output_type": "execute_result"
    }
   ],
   "source": [
    "x < 3 # np.less(x,3)\n",
    "\n",
    "# this return Boolean\n",
    "# here will check every elemint in array , return boolean index."
   ]
  },
  {
   "cell_type": "code",
   "execution_count": 6,
   "id": "5c4cf792-2fff-4dba-8427-93f8b47b4894",
   "metadata": {},
   "outputs": [
    {
     "data": {
      "text/plain": [
       "array([[6, 3, 7, 4],\n",
       "       [6, 9, 2, 6],\n",
       "       [7, 4, 3, 7]])"
      ]
     },
     "execution_count": 6,
     "metadata": {},
     "output_type": "execute_result"
    }
   ],
   "source": [
    "np.random.seed(42)\n",
    "zx = np.random.randint(10, size=(3,4))\n",
    "zx"
   ]
  },
  {
   "cell_type": "code",
   "execution_count": 7,
   "id": "a510c375-0f1a-4291-9cc6-4440c912b296",
   "metadata": {},
   "outputs": [
    {
     "data": {
      "text/plain": [
       "array([[False,  True, False,  True],\n",
       "       [False, False,  True, False],\n",
       "       [False,  True,  True, False]])"
      ]
     },
     "execution_count": 7,
     "metadata": {},
     "output_type": "execute_result"
    }
   ],
   "source": [
    "zx < 6"
   ]
  },
  {
   "cell_type": "code",
   "execution_count": 8,
   "id": "e288fd7e-a7b8-4fa8-ba0c-be0df69b5212",
   "metadata": {},
   "outputs": [
    {
     "data": {
      "text/plain": [
       "array([[ True,  True,  True,  True],\n",
       "       [ True,  True, False,  True],\n",
       "       [ True,  True,  True,  True]])"
      ]
     },
     "execution_count": 8,
     "metadata": {},
     "output_type": "execute_result"
    }
   ],
   "source": [
    "zx > 2"
   ]
  },
  {
   "cell_type": "markdown",
   "id": "2e8fd131-3951-4d82-b588-ce554ba61176",
   "metadata": {},
   "source": [
    "**Operator & Equivalent ufunc**\n",
    "\n",
    "1) ==      &    np.equal\n",
    "2) !=      &    np.not_equal\n",
    "3) <       &    np.less\n",
    "4) <=      &    np.less_equal\n",
    "5) .>       &    np.greater\n",
    "6) .>=      &    np.greater_equal\n"
   ]
  },
  {
   "cell_type": "markdown",
   "id": "88582260-ba3e-4e03-9337-bf013f74bdde",
   "metadata": {},
   "source": [
    "### Work with boolean array."
   ]
  },
  {
   "cell_type": "code",
   "execution_count": 9,
   "id": "e9ee5e96-29a0-4c71-814a-6ff7f785654f",
   "metadata": {},
   "outputs": [
    {
     "name": "stdout",
     "output_type": "stream",
     "text": [
      "[[6 3 7 4]\n",
      " [6 9 2 6]\n",
      " [7 4 3 7]]\n"
     ]
    }
   ],
   "source": [
    "print(zx)"
   ]
  },
  {
   "cell_type": "code",
   "execution_count": 10,
   "id": "c3b44694-3d26-4c60-9b5e-93a5e98c7e1c",
   "metadata": {},
   "outputs": [
    {
     "data": {
      "text/plain": [
       "array([[False,  True, False,  True],\n",
       "       [False, False,  True, False],\n",
       "       [False,  True,  True, False]])"
      ]
     },
     "execution_count": 10,
     "metadata": {},
     "output_type": "execute_result"
    }
   ],
   "source": [
    "zx < 6"
   ]
  },
  {
   "cell_type": "markdown",
   "id": "49091073-3ea6-4862-975f-4eddaea918c0",
   "metadata": {},
   "source": [
    "**some function**\n",
    "\n",
    "  - np.count_nonzero()  | -> return count of elemint which not equal zero (True).\n",
    "  - np.sum()  | give me summation af all elemint .\n",
    "  - np.any()\n",
    "  - np.all  "
   ]
  },
  {
   "cell_type": "code",
   "execution_count": 11,
   "id": "f0196375-de34-4fec-96ba-5bc79cf856de",
   "metadata": {},
   "outputs": [
    {
     "data": {
      "text/plain": [
       "5"
      ]
     },
     "execution_count": 11,
     "metadata": {},
     "output_type": "execute_result"
    }
   ],
   "source": [
    "np.count_nonzero(zx < 6)"
   ]
  },
  {
   "cell_type": "code",
   "execution_count": 12,
   "id": "673812a6-fb0f-4bf4-b0ca-ca1b87cfdad9",
   "metadata": {},
   "outputs": [
    {
     "name": "stdout",
     "output_type": "stream",
     "text": [
      "5\n"
     ]
    }
   ],
   "source": [
    "print(np.sum(zx < 6))"
   ]
  },
  {
   "cell_type": "markdown",
   "id": "218303b9-1566-48a4-aee5-9a841e39fb8f",
   "metadata": {},
   "source": [
    "#### question"
   ]
  },
  {
   "cell_type": "markdown",
   "id": "f6a60432-4415-4bfa-8402-50a57b099dc0",
   "metadata": {},
   "source": [
    "**Find The number of days without rain.**"
   ]
  },
  {
   "cell_type": "code",
   "execution_count": 13,
   "id": "c31347bd-b2ac-4bb5-8834-b5890c0ec801",
   "metadata": {},
   "outputs": [
    {
     "data": {
      "text/plain": [
       "array([ True,  True, False, False, False,  True,  True,  True,  True,\n",
       "        True, False, False, False,  True, False, False, False, False,\n",
       "       False, False, False, False, False,  True,  True, False, False,\n",
       "       False, False, False,  True, False, False, False, False, False,\n",
       "        True,  True,  True,  True, False, False, False, False, False,\n",
       "       False,  True, False, False, False,  True, False, False,  True,\n",
       "       False,  True, False, False, False, False, False, False, False,\n",
       "       False, False, False, False, False, False, False, False, False,\n",
       "       False, False,  True,  True,  True,  True,  True, False, False,\n",
       "        True, False,  True,  True, False, False,  True,  True,  True,\n",
       "        True,  True,  True, False, False,  True,  True,  True,  True,\n",
       "        True,  True,  True, False, False, False,  True,  True,  True,\n",
       "        True,  True,  True,  True,  True, False, False, False,  True,\n",
       "        True,  True, False,  True,  True,  True,  True,  True,  True,\n",
       "        True,  True, False,  True,  True,  True,  True,  True, False,\n",
       "       False, False,  True,  True, False,  True, False,  True,  True,\n",
       "        True,  True,  True,  True, False,  True,  True,  True, False,\n",
       "       False,  True,  True,  True,  True,  True, False, False, False,\n",
       "        True,  True,  True, False,  True,  True, False,  True,  True,\n",
       "       False,  True,  True, False, False,  True,  True,  True,  True,\n",
       "        True,  True,  True,  True,  True,  True,  True, False, False,\n",
       "       False, False,  True,  True,  True,  True,  True,  True,  True,\n",
       "        True, False,  True,  True,  True, False,  True,  True,  True,\n",
       "        True,  True,  True,  True,  True,  True,  True, False,  True,\n",
       "        True,  True,  True, False,  True,  True,  True,  True,  True,\n",
       "        True,  True,  True,  True,  True,  True,  True,  True,  True,\n",
       "        True,  True,  True,  True,  True,  True,  True,  True,  True,\n",
       "       False, False, False,  True,  True, False, False, False, False,\n",
       "        True,  True,  True,  True,  True,  True,  True,  True, False,\n",
       "        True, False,  True,  True,  True, False,  True,  True,  True,\n",
       "       False,  True,  True,  True, False,  True,  True, False, False,\n",
       "       False, False, False, False,  True,  True, False, False, False,\n",
       "       False, False, False, False, False, False, False, False, False,\n",
       "       False,  True, False, False,  True, False, False, False, False,\n",
       "       False,  True,  True, False, False, False,  True, False,  True,\n",
       "        True, False, False, False, False, False,  True,  True, False,\n",
       "       False, False, False, False, False, False, False, False,  True,\n",
       "       False, False, False, False, False, False, False,  True,  True,\n",
       "       False, False, False, False, False,  True,  True,  True,  True,\n",
       "        True,  True, False, False,  True, False, False, False,  True,\n",
       "       False, False,  True, False, False, False])"
      ]
     },
     "execution_count": 13,
     "metadata": {},
     "output_type": "execute_result"
    }
   ],
   "source": [
    "rainfall == 0"
   ]
  },
  {
   "cell_type": "code",
   "execution_count": 14,
   "id": "fbc58210-9424-423c-8fb7-c058170ea9fa",
   "metadata": {},
   "outputs": [
    {
     "name": "stdout",
     "output_type": "stream",
     "text": [
      "194\n"
     ]
    }
   ],
   "source": [
    "print(np.sum(rainfall == 0))\n",
    "\n",
    "# this call masks -> array[arra > 0]"
   ]
  },
  {
   "cell_type": "code",
   "execution_count": 15,
   "id": "7f08b864-9862-4e72-bc15-d81a8271e7d6",
   "metadata": {},
   "outputs": [],
   "source": [
    "# ......................................................"
   ]
  },
  {
   "cell_type": "markdown",
   "id": "bacfe172-add7-4bd6-a788-0e7b74c2690c",
   "metadata": {},
   "source": [
    "**Find the number of days with rain**"
   ]
  },
  {
   "cell_type": "code",
   "execution_count": 16,
   "id": "f4d2df98-a8b6-490d-a098-758fb0ebf4fb",
   "metadata": {},
   "outputs": [
    {
     "data": {
      "text/plain": [
       "array([False, False,  True,  True,  True, False, False, False, False,\n",
       "       False,  True,  True,  True, False,  True,  True,  True,  True,\n",
       "        True,  True,  True,  True,  True, False, False,  True,  True,\n",
       "        True,  True,  True, False,  True,  True,  True,  True,  True,\n",
       "       False, False, False, False,  True,  True,  True,  True,  True,\n",
       "        True, False,  True,  True,  True, False,  True,  True, False,\n",
       "        True, False,  True,  True,  True,  True,  True,  True,  True,\n",
       "        True,  True,  True,  True,  True,  True,  True,  True,  True,\n",
       "        True,  True, False, False, False, False, False,  True,  True,\n",
       "       False,  True, False, False,  True,  True, False, False, False,\n",
       "       False, False, False,  True,  True, False, False, False, False,\n",
       "       False, False, False,  True,  True,  True, False, False, False,\n",
       "       False, False, False, False, False,  True,  True,  True, False,\n",
       "       False, False,  True, False, False, False, False, False, False,\n",
       "       False, False,  True, False, False, False, False, False,  True,\n",
       "        True,  True, False, False,  True, False,  True, False, False,\n",
       "       False, False, False, False,  True, False, False, False,  True,\n",
       "        True, False, False, False, False, False,  True,  True,  True,\n",
       "       False, False, False,  True, False, False,  True, False, False,\n",
       "        True, False, False,  True,  True, False, False, False, False,\n",
       "       False, False, False, False, False, False, False,  True,  True,\n",
       "        True,  True, False, False, False, False, False, False, False,\n",
       "       False,  True, False, False, False,  True, False, False, False,\n",
       "       False, False, False, False, False, False, False,  True, False,\n",
       "       False, False, False,  True, False, False, False, False, False,\n",
       "       False, False, False, False, False, False, False, False, False,\n",
       "       False, False, False, False, False, False, False, False, False,\n",
       "        True,  True,  True, False, False,  True,  True,  True,  True,\n",
       "       False, False, False, False, False, False, False, False,  True,\n",
       "       False,  True, False, False, False,  True, False, False, False,\n",
       "        True, False, False, False,  True, False, False,  True,  True,\n",
       "        True,  True,  True,  True, False, False,  True,  True,  True,\n",
       "        True,  True,  True,  True,  True,  True,  True,  True,  True,\n",
       "        True, False,  True,  True, False,  True,  True,  True,  True,\n",
       "        True, False, False,  True,  True,  True, False,  True, False,\n",
       "       False,  True,  True,  True,  True,  True, False, False,  True,\n",
       "        True,  True,  True,  True,  True,  True,  True,  True, False,\n",
       "        True,  True,  True,  True,  True,  True,  True, False, False,\n",
       "        True,  True,  True,  True,  True, False, False, False, False,\n",
       "       False, False,  True,  True, False,  True,  True,  True, False,\n",
       "        True,  True, False,  True,  True,  True])"
      ]
     },
     "execution_count": 16,
     "metadata": {},
     "output_type": "execute_result"
    }
   ],
   "source": [
    "rainfall > 0"
   ]
  },
  {
   "cell_type": "code",
   "execution_count": 17,
   "id": "bd99600c-8045-4b9d-8774-76749b4a2586",
   "metadata": {},
   "outputs": [
    {
     "name": "stdout",
     "output_type": "stream",
     "text": [
      "172\n"
     ]
    }
   ],
   "source": [
    "print(np.sum(rainfall > 0))"
   ]
  },
  {
   "cell_type": "code",
   "execution_count": 18,
   "id": "b86763e0-d854-4785-89a0-3322109b16f6",
   "metadata": {},
   "outputs": [],
   "source": [
    "# ---------------------------------------------------"
   ]
  },
  {
   "cell_type": "markdown",
   "id": "c4c87d3d-b66b-4797-b11d-03707aa62ed3",
   "metadata": {},
   "source": [
    "**Find the number of days with more than 0.5 inches**"
   ]
  },
  {
   "cell_type": "code",
   "execution_count": 19,
   "id": "34bfae4d-b588-4f8a-a7c6-b558f124f5f1",
   "metadata": {},
   "outputs": [
    {
     "data": {
      "text/plain": [
       "array([False, False, False, False, False, False, False, False, False,\n",
       "       False, False,  True,  True, False, False, False, False, False,\n",
       "       False, False,  True, False,  True, False, False, False,  True,\n",
       "        True, False, False, False, False, False,  True, False, False,\n",
       "       False, False, False, False, False, False,  True, False, False,\n",
       "       False, False, False, False, False, False, False, False, False,\n",
       "       False, False, False, False,  True, False,  True, False, False,\n",
       "       False, False, False, False, False,  True, False, False, False,\n",
       "        True, False, False, False, False, False, False, False, False,\n",
       "       False, False, False, False, False, False, False, False, False,\n",
       "       False, False, False, False, False, False, False, False, False,\n",
       "       False, False, False, False, False, False, False, False, False,\n",
       "       False, False, False, False, False, False, False, False, False,\n",
       "       False, False, False, False, False, False, False, False, False,\n",
       "       False, False, False, False, False, False, False, False, False,\n",
       "       False, False, False, False, False, False, False, False, False,\n",
       "       False, False, False, False, False, False, False, False, False,\n",
       "       False, False, False, False, False, False, False, False, False,\n",
       "       False, False, False, False, False, False, False, False, False,\n",
       "        True, False, False, False, False, False, False, False, False,\n",
       "       False, False, False, False, False, False, False, False, False,\n",
       "       False, False, False, False, False, False, False, False, False,\n",
       "       False, False, False, False, False, False, False, False, False,\n",
       "       False, False, False, False, False, False, False, False, False,\n",
       "       False, False, False, False, False, False, False, False, False,\n",
       "       False, False, False, False, False, False, False, False, False,\n",
       "       False, False, False, False, False, False, False, False, False,\n",
       "       False, False, False, False, False, False, False, False, False,\n",
       "       False, False, False, False, False, False, False, False, False,\n",
       "       False, False, False, False, False, False, False, False, False,\n",
       "       False, False, False, False, False, False, False, False, False,\n",
       "       False, False,  True, False, False, False, False,  True,  True,\n",
       "        True,  True, False, False, False,  True, False, False, False,\n",
       "       False, False,  True, False, False, False, False,  True, False,\n",
       "       False, False, False,  True, False, False, False, False, False,\n",
       "       False, False, False, False,  True, False, False, False, False,\n",
       "       False, False, False, False,  True, False, False, False, False,\n",
       "       False, False, False, False, False, False, False, False, False,\n",
       "       False, False, False, False, False, False, False, False, False,\n",
       "       False, False,  True, False, False, False,  True, False, False,\n",
       "       False, False, False, False, False, False])"
      ]
     },
     "execution_count": 19,
     "metadata": {},
     "output_type": "execute_result"
    }
   ],
   "source": [
    "rainfall > 0.5"
   ]
  },
  {
   "cell_type": "code",
   "execution_count": 20,
   "id": "53fecc37-1e96-45ed-8710-3f250e7ca689",
   "metadata": {},
   "outputs": [
    {
     "name": "stdout",
     "output_type": "stream",
     "text": [
      "26\n"
     ]
    }
   ],
   "source": [
    "print(np.sum(rainfall > 0.5))"
   ]
  },
  {
   "cell_type": "code",
   "execution_count": 21,
   "id": "cb5c0381-1f38-4a8e-aa9c-9a964b98a226",
   "metadata": {},
   "outputs": [],
   "source": [
    "# ---------------------------------------------"
   ]
  },
  {
   "cell_type": "markdown",
   "id": "9222b164-9694-48cc-a6cb-f38236899fe8",
   "metadata": {},
   "source": [
    "**Find the rainy days with < 0.1 inches.**"
   ]
  },
  {
   "cell_type": "code",
   "execution_count": 22,
   "id": "37b2c8d9-cc2e-4ab2-810b-66bdee0819cf",
   "metadata": {},
   "outputs": [
    {
     "name": "stdout",
     "output_type": "stream",
     "text": [
      "250\n"
     ]
    }
   ],
   "source": [
    "print(np.sum(rainfall < 0.1))"
   ]
  },
  {
   "cell_type": "markdown",
   "id": "34726bbd-862e-4a50-b92c-0e3cef67787e",
   "metadata": {},
   "source": [
    "--------------------------\n",
    "\n",
    "--------------------------"
   ]
  },
  {
   "cell_type": "markdown",
   "id": "ef14645b-d154-42e7-8e63-b0ec5e84d462",
   "metadata": {},
   "source": [
    "**Extract the summer days**\n",
    "\n",
    "- Summer starts on the 172 day of the year and lasts for 90 days."
   ]
  },
  {
   "cell_type": "code",
   "execution_count": 29,
   "id": "369e0718-2892-4d7c-8737-766fff4908e0",
   "metadata": {},
   "outputs": [
    {
     "data": {
      "text/plain": [
       "array([False, False, False, False, False, False, False, False, False,\n",
       "       False, False, False, False, False, False, False, False, False,\n",
       "       False, False, False, False, False, False, False, False, False,\n",
       "       False, False, False, False, False, False, False, False, False,\n",
       "       False, False, False, False, False, False, False, False, False,\n",
       "       False, False, False, False, False, False, False, False, False,\n",
       "       False, False, False, False, False, False, False, False, False,\n",
       "       False, False, False, False, False, False, False, False, False,\n",
       "       False, False, False, False, False, False, False, False, False,\n",
       "       False, False, False, False, False, False, False, False, False,\n",
       "       False, False, False, False, False, False, False, False, False,\n",
       "       False, False, False, False, False, False, False, False, False,\n",
       "       False, False, False, False, False, False, False, False, False,\n",
       "       False, False, False, False, False, False, False, False, False,\n",
       "       False, False, False, False, False, False, False, False, False,\n",
       "       False, False, False, False, False, False, False, False, False,\n",
       "       False, False, False, False, False, False, False, False, False,\n",
       "       False, False, False, False, False, False, False, False, False,\n",
       "       False, False, False, False, False, False, False, False, False,\n",
       "       False, False,  True,  True,  True,  True,  True,  True,  True,\n",
       "        True,  True,  True,  True,  True,  True,  True,  True,  True,\n",
       "        True,  True,  True,  True,  True,  True,  True,  True,  True,\n",
       "        True,  True,  True,  True,  True,  True,  True,  True,  True,\n",
       "        True,  True,  True,  True,  True,  True,  True,  True,  True,\n",
       "        True,  True,  True,  True,  True,  True,  True,  True,  True,\n",
       "        True,  True,  True,  True,  True,  True,  True,  True,  True,\n",
       "        True,  True,  True,  True,  True,  True,  True,  True,  True,\n",
       "        True,  True,  True,  True,  True,  True,  True,  True,  True,\n",
       "        True,  True,  True,  True,  True,  True,  True,  True,  True,\n",
       "        True, False, False, False, False, False, False, False, False,\n",
       "       False, False, False, False, False, False, False, False, False,\n",
       "       False, False, False, False, False, False, False, False, False,\n",
       "       False, False, False, False, False, False, False, False, False,\n",
       "       False, False, False, False, False, False, False, False, False,\n",
       "       False, False, False, False, False, False, False, False, False,\n",
       "       False, False, False, False, False, False, False, False, False,\n",
       "       False, False, False, False, False, False, False, False, False,\n",
       "       False, False, False, False, False, False, False, False, False,\n",
       "       False, False, False, False, False, False, False, False, False,\n",
       "       False, False, False, False, False, False, False, False, False,\n",
       "       False, False, False, False, False, False])"
      ]
     },
     "execution_count": 29,
     "metadata": {},
     "output_type": "execute_result"
    }
   ],
   "source": [
    "days = np.arange(366)\n",
    "summer = (days > 172) & (days < 262)\n",
    "summer"
   ]
  },
  {
   "cell_type": "markdown",
   "id": "05226bb5-8274-4f75-b2e0-9bf9f6ca87d1",
   "metadata": {},
   "source": [
    "\n",
    "..................................................\n",
    "........................\n",
    "....................\n",
    "\n",
    "Find the mean of precipitation of rainy days.\n"
   ]
  },
  {
   "cell_type": "code",
   "execution_count": 32,
   "id": "9d549d8b-3388-45af-afbb-a6194054cb2b",
   "metadata": {},
   "outputs": [
    {
     "data": {
      "text/plain": [
       "np.float64(0.2626744186046512)"
      ]
     },
     "execution_count": 32,
     "metadata": {},
     "output_type": "execute_result"
    }
   ],
   "source": [
    "(rainfall[rainfall > 0]).mean()"
   ]
  },
  {
   "cell_type": "markdown",
   "id": "67a04007-4ddc-4439-a6d4-efcde3544c6b",
   "metadata": {},
   "source": [
    "...................................................................\n",
    "............................................................\n",
    "\n",
    "Find the maximimu precipitation on summer days."
   ]
  },
  {
   "cell_type": "code",
   "execution_count": 34,
   "id": "bb9ab5ea-0d4d-4999-a920-87ef444ccbc4",
   "metadata": {},
   "outputs": [
    {
     "data": {
      "text/plain": [
       "np.float64(0.42)"
      ]
     },
     "execution_count": 34,
     "metadata": {},
     "output_type": "execute_result"
    }
   ],
   "source": [
    "rainfall[summer].max()"
   ]
  },
  {
   "cell_type": "markdown",
   "id": "cb984916-ecd2-4333-a187-40f3eb7e801d",
   "metadata": {},
   "source": [
    "............................................................................\n",
    "\n",
    "Find the median precipitation on rainy and non-summer days."
   ]
  },
  {
   "cell_type": "code",
   "execution_count": 37,
   "id": "b15e6f75-baa1-441a-b5f8-cffb179ab4f6",
   "metadata": {},
   "outputs": [
    {
     "data": {
      "text/plain": [
       "np.float64(0.17)"
      ]
     },
     "execution_count": 37,
     "metadata": {},
     "output_type": "execute_result"
    }
   ],
   "source": [
    "np.median(rainfall[(~summer) & (rainfall > 0)])"
   ]
  },
  {
   "cell_type": "markdown",
   "id": "3dd7758e-cf2a-4da2-b9ba-f4c2c3dd12a9",
   "metadata": {},
   "source": [
    "..........................................................................\n",
    "\n",
    "### THe End"
   ]
  }
 ],
 "metadata": {
  "kernelspec": {
   "display_name": "Python 3 (ipykernel)",
   "language": "python",
   "name": "python3"
  },
  "language_info": {
   "codemirror_mode": {
    "name": "ipython",
    "version": 3
   },
   "file_extension": ".py",
   "mimetype": "text/x-python",
   "name": "python",
   "nbconvert_exporter": "python",
   "pygments_lexer": "ipython3",
   "version": "3.12.3"
  }
 },
 "nbformat": 4,
 "nbformat_minor": 5
}
