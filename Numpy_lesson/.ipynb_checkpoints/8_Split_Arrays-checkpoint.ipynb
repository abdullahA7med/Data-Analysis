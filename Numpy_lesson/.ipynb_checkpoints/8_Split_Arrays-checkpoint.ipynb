{
 "cells": [
  {
   "cell_type": "markdown",
   "id": "f1f1ac00-9dec-4bbe-b495-74ea043a2a0c",
   "metadata": {},
   "source": [
    "# split array\n",
    "\n",
    "- i have two array devide them to 2 array.\n",
    "- use function => **split**"
   ]
  },
  {
   "cell_type": "code",
   "execution_count": 1,
   "id": "c46c81d5-14f5-48d5-881b-97ba1df7fe1e",
   "metadata": {},
   "outputs": [],
   "source": [
    "import numpy as np"
   ]
  },
  {
   "cell_type": "code",
   "execution_count": 2,
   "id": "d0f45658-86be-4766-b27f-5504ea62d1fe",
   "metadata": {},
   "outputs": [
    {
     "data": {
      "text/plain": [
       "array([ 1,  2,  3,  4,  5,  6,  7,  8,  9, 10, 11, 12, 13, 14, 15, 16, 17,\n",
       "       18, 19, 20])"
      ]
     },
     "execution_count": 2,
     "metadata": {},
     "output_type": "execute_result"
    }
   ],
   "source": [
    "xc = np.arange(1,21)\n",
    "xc"
   ]
  },
  {
   "cell_type": "code",
   "execution_count": 8,
   "id": "5bcf2647-5565-4cb8-a218-c6a5e77a8ebc",
   "metadata": {},
   "outputs": [
    {
     "name": "stdout",
     "output_type": "stream",
     "text": [
      "[1 2 3 4 5 6 7] \n",
      "\n",
      "[ 8  9 10 11 12 13 14] \n",
      "\n",
      "\n",
      " [15 16 17 18 19 20]\n"
     ]
    }
   ],
   "source": [
    "x1,x2,x3 = np.split(xc,[7,14])\n",
    "print(x1,'\\n')\n",
    "print(x2,'\\n')\n",
    "print('\\n',x3)"
   ]
  },
  {
   "cell_type": "code",
   "execution_count": 11,
   "id": "662e88bd-1786-4141-b502-1ac013936e5e",
   "metadata": {},
   "outputs": [
    {
     "data": {
      "text/plain": [
       "array([ 1,  2,  3,  4,  5,  6,  7,  8,  9, 10])"
      ]
     },
     "execution_count": 11,
     "metadata": {},
     "output_type": "execute_result"
    }
   ],
   "source": [
    "\n",
    "cb,dd = np.split(xc,(2))\n",
    "cb"
   ]
  },
  {
   "cell_type": "code",
   "execution_count": 12,
   "id": "861259f7-4678-4f59-b336-bc33911bdefa",
   "metadata": {},
   "outputs": [
    {
     "data": {
      "text/plain": [
       "array([11, 12, 13, 14, 15, 16, 17, 18, 19, 20])"
      ]
     },
     "execution_count": 12,
     "metadata": {},
     "output_type": "execute_result"
    }
   ],
   "source": [
    "dd"
   ]
  },
  {
   "cell_type": "markdown",
   "id": "8c97e8c4-545f-4f26-9603-6639e0ab2157",
   "metadata": {},
   "source": [
    "-------------\n",
    "\n",
    "----------------"
   ]
  },
  {
   "cell_type": "markdown",
   "id": "e22d3490-f358-459a-82c3-ea0fe414b9fd",
   "metadata": {},
   "source": [
    "**in multi array**\n",
    "- you can split by horizontal or virtical"
   ]
  },
  {
   "cell_type": "code",
   "execution_count": 14,
   "id": "944b0aff-4765-4bd1-ada1-b013d7917374",
   "metadata": {},
   "outputs": [
    {
     "data": {
      "text/plain": [
       "array([[ 1,  2,  3,  4],\n",
       "       [ 5,  6,  7,  8],\n",
       "       [ 9, 10, 11, 12],\n",
       "       [13, 14, 15, 16],\n",
       "       [17, 18, 19, 20]])"
      ]
     },
     "execution_count": 14,
     "metadata": {},
     "output_type": "execute_result"
    }
   ],
   "source": [
    "grid = np.arange(1,21).reshape((5,4))\n",
    "grid"
   ]
  },
  {
   "cell_type": "code",
   "execution_count": 16,
   "id": "d5af326c-f26c-4183-90b8-1db868bc6a2d",
   "metadata": {},
   "outputs": [
    {
     "name": "stdout",
     "output_type": "stream",
     "text": [
      "[[1 2 3 4]\n",
      " [5 6 7 8]] \n",
      "\n",
      "\n",
      " [[ 9 10 11 12]\n",
      " [13 14 15 16]\n",
      " [17 18 19 20]]\n"
     ]
    }
   ],
   "source": [
    "up , low = np.vsplit(grid,[2])\n",
    "\n",
    "print(up,'\\n')\n",
    "print('\\n',low)"
   ]
  },
  {
   "cell_type": "code",
   "execution_count": 18,
   "id": "5a848d82-5536-4604-8711-a1a54f96a05f",
   "metadata": {},
   "outputs": [
    {
     "name": "stdout",
     "output_type": "stream",
     "text": [
      "[[ 1  2]\n",
      " [ 5  6]\n",
      " [ 9 10]\n",
      " [13 14]\n",
      " [17 18]] \n",
      "\n",
      "\n",
      " [[ 3  4]\n",
      " [ 7  8]\n",
      " [11 12]\n",
      " [15 16]\n",
      " [19 20]]\n"
     ]
    }
   ],
   "source": [
    "\n",
    "right , lift = np.hsplit(grid,[2])\n",
    "\n",
    "print(right,'\\n')\n",
    "print('\\n',lift)"
   ]
  },
  {
   "cell_type": "markdown",
   "id": "0facdf68-6b39-4189-b15f-668d0ffaa266",
   "metadata": {},
   "source": [
    "# The End"
   ]
  }
 ],
 "metadata": {
  "kernelspec": {
   "display_name": "Python 3 (ipykernel)",
   "language": "python",
   "name": "python3"
  },
  "language_info": {
   "codemirror_mode": {
    "name": "ipython",
    "version": 3
   },
   "file_extension": ".py",
   "mimetype": "text/x-python",
   "name": "python",
   "nbconvert_exporter": "python",
   "pygments_lexer": "ipython3",
   "version": "3.12.3"
  }
 },
 "nbformat": 4,
 "nbformat_minor": 5
}
