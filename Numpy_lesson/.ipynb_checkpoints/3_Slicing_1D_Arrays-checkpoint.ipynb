{
 "cells": [
  {
   "cell_type": "markdown",
   "id": "9b7a7354-31e8-4be2-92bc-7693480cbda5",
   "metadata": {},
   "source": [
    "# Numpy"
   ]
  },
  {
   "cell_type": "markdown",
   "id": "b9448d54-bfd6-4abe-a643-24c7679e1570",
   "metadata": {},
   "source": [
    "## Slicing in 1D array."
   ]
  },
  {
   "cell_type": "code",
   "execution_count": 1,
   "id": "50f1a0fc-3159-4f30-a927-cc9bf61bb81e",
   "metadata": {},
   "outputs": [],
   "source": [
    "import numpy as np"
   ]
  },
  {
   "cell_type": "code",
   "execution_count": 3,
   "id": "ccc35f63-c10d-41e9-ae52-1f3b82d8d62a",
   "metadata": {},
   "outputs": [],
   "source": [
    "x = np.arange(10) #as we know create 1D array . in range from 0 to 10."
   ]
  },
  {
   "cell_type": "code",
   "execution_count": 4,
   "id": "7ef7fdb3-90ea-4fac-9702-81fb613e17aa",
   "metadata": {},
   "outputs": [
    {
     "data": {
      "text/plain": [
       "array([0, 1])"
      ]
     },
     "execution_count": 4,
     "metadata": {},
     "output_type": "execute_result"
    }
   ],
   "source": [
    "x[0:2] # in python indexing start from 0."
   ]
  },
  {
   "cell_type": "code",
   "execution_count": 5,
   "id": "f34448e8-31ee-4d1a-bec3-0c7d7b709deb",
   "metadata": {},
   "outputs": [
    {
     "data": {
      "text/plain": [
       "array([0, 1, 2, 3, 4, 5, 6, 7, 8, 9])"
      ]
     },
     "execution_count": 5,
     "metadata": {},
     "output_type": "execute_result"
    }
   ],
   "source": [
    "x[0:] # from index 0 To the End "
   ]
  },
  {
   "cell_type": "code",
   "execution_count": 6,
   "id": "d0b4c296-5399-4760-a7bc-39dab2fac8e0",
   "metadata": {},
   "outputs": [
    {
     "data": {
      "text/plain": [
       "array([0, 1, 2, 3, 4, 5, 6, 7, 8, 9])"
      ]
     },
     "execution_count": 6,
     "metadata": {},
     "output_type": "execute_result"
    }
   ],
   "source": [
    "x[:] # from first to end."
   ]
  },
  {
   "cell_type": "code",
   "execution_count": 7,
   "id": "16a45f50-656c-44af-8712-45017830da97",
   "metadata": {},
   "outputs": [
    {
     "data": {
      "text/plain": [
       "array([0, 2, 4, 6, 8])"
      ]
     },
     "execution_count": 7,
     "metadata": {},
     "output_type": "execute_result"
    }
   ],
   "source": [
    "x[::2] # x[start: end: step]"
   ]
  },
  {
   "cell_type": "markdown",
   "id": "53642664-5080-4e1f-89b8-01a4d84f4b3e",
   "metadata": {},
   "source": [
    "## The End 👍."
   ]
  }
 ],
 "metadata": {
  "kernelspec": {
   "display_name": "Python 3 (ipykernel)",
   "language": "python",
   "name": "python3"
  },
  "language_info": {
   "codemirror_mode": {
    "name": "ipython",
    "version": 3
   },
   "file_extension": ".py",
   "mimetype": "text/x-python",
   "name": "python",
   "nbconvert_exporter": "python",
   "pygments_lexer": "ipython3",
   "version": "3.12.3"
  }
 },
 "nbformat": 4,
 "nbformat_minor": 5
}
