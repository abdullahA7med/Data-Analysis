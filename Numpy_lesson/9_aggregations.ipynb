{
 "cells": [
  {
   "cell_type": "markdown",
   "id": "53049c82-2d5b-42ec-9a7d-33d6d1eb8fdd",
   "metadata": {},
   "source": [
    "# Numpy"
   ]
  },
  {
   "cell_type": "markdown",
   "id": "957a852d-7510-46fe-8406-b70121ebd0f3",
   "metadata": {},
   "source": [
    "- aggregations is a function -> used to Summarise the Values in array."
   ]
  },
  {
   "cell_type": "code",
   "execution_count": 1,
   "id": "ac55f854-48c8-4ad5-aec6-db13faa304ef",
   "metadata": {},
   "outputs": [],
   "source": [
    "import numpy as np"
   ]
  },
  {
   "cell_type": "code",
   "execution_count": 2,
   "id": "396f8582-8ad9-47f9-8c24-e5cf5f7df3f8",
   "metadata": {},
   "outputs": [],
   "source": [
    "l = np.arange(1,101)"
   ]
  },
  {
   "cell_type": "code",
   "execution_count": null,
   "id": "0d3d772b-cc6c-4fb2-9669-7b8fbcb94fec",
   "metadata": {},
   "outputs": [],
   "source": []
  },
  {
   "cell_type": "code",
   "execution_count": 3,
   "id": "019b54fd-271e-4887-8f95-8849139c502c",
   "metadata": {},
   "outputs": [
    {
     "data": {
      "text/plain": [
       "np.int64(5050)"
      ]
     },
     "execution_count": 3,
     "metadata": {},
     "output_type": "execute_result"
    }
   ],
   "source": [
    "\n",
    "# get Sum of values\n",
    "\n",
    "np.sum(l)"
   ]
  },
  {
   "cell_type": "code",
   "execution_count": 4,
   "id": "284f9e93-722f-448c-b4ad-88e3091ef0e2",
   "metadata": {},
   "outputs": [
    {
     "data": {
      "text/plain": [
       "(np.int64(1), np.int64(100))"
      ]
     },
     "execution_count": 4,
     "metadata": {},
     "output_type": "execute_result"
    }
   ],
   "source": [
    "\n",
    "# Get min and max of array values\n",
    "\n",
    "np.min(l) , np.max(l)"
   ]
  },
  {
   "cell_type": "markdown",
   "id": "5c36bef5-628e-4a07-8497-a847180e1c90",
   "metadata": {},
   "source": [
    "--------------------------\n",
    "\n",
    "--------------------------"
   ]
  },
  {
   "cell_type": "markdown",
   "id": "6f124b55-7538-441f-af0b-24a0ef3b04c6",
   "metadata": {},
   "source": [
    "### Multi dimensional"
   ]
  },
  {
   "cell_type": "code",
   "execution_count": 5,
   "id": "78cf1635-9b35-4888-bcb1-a1d29af62e6f",
   "metadata": {},
   "outputs": [
    {
     "data": {
      "text/plain": [
       "array([[ 1, 24, 21, 13],\n",
       "       [12, 31, 44,  9],\n",
       "       [14, 15, 10, 11]])"
      ]
     },
     "execution_count": 5,
     "metadata": {},
     "output_type": "execute_result"
    }
   ],
   "source": [
    "dg = np.array([[1,24,21,13],[12,31,44,9],[14,15,10,11]])\n",
    "dg"
   ]
  },
  {
   "cell_type": "code",
   "execution_count": 6,
   "id": "c7f87afa-a1c4-4138-a66b-e57a09a5da91",
   "metadata": {},
   "outputs": [
    {
     "data": {
      "text/plain": [
       "np.int64(205)"
      ]
     },
     "execution_count": 6,
     "metadata": {},
     "output_type": "execute_result"
    }
   ],
   "source": [
    "np.sum(dg)"
   ]
  },
  {
   "cell_type": "code",
   "execution_count": 7,
   "id": "669b911f-8c27-499c-a40b-03f7f18bab8f",
   "metadata": {},
   "outputs": [
    {
     "data": {
      "text/plain": [
       "(array([27, 70, 75, 33]), array([59, 96, 50]))"
      ]
     },
     "execution_count": 7,
     "metadata": {},
     "output_type": "execute_result"
    }
   ],
   "source": [
    "\n",
    "# you can get sum or anyThing to row,column. => using axis.\n",
    "\n",
    "np.sum(dg,axis=0) , np.sum(dg,axis=1)\n"
   ]
  },
  {
   "cell_type": "markdown",
   "id": "d5450f6f-2bce-4133-bd1b-889464532fef",
   "metadata": {},
   "source": [
    "\n",
    "<!-- Note -->"
   ]
  },
  {
   "cell_type": "markdown",
   "id": "62be2892-9bf8-47be-96a1-d0e1581378f4",
   "metadata": {},
   "source": [
    "\n",
    "**There are more function aggregation search for more**"
   ]
  },
  {
   "cell_type": "code",
   "execution_count": 8,
   "id": "891c0d6b-419f-49ba-98c4-b31d35d2a637",
   "metadata": {},
   "outputs": [
    {
     "data": {
      "text/plain": [
       "np.float64(17.083333333333332)"
      ]
     },
     "execution_count": 8,
     "metadata": {},
     "output_type": "execute_result"
    }
   ],
   "source": [
    "np.mean(dg)"
   ]
  },
  {
   "cell_type": "code",
   "execution_count": 9,
   "id": "e7f6e24b-1904-4b54-bc34-6f1a12371a92",
   "metadata": {},
   "outputs": [
    {
     "data": {
      "text/plain": [
       "np.float64(13.5)"
      ]
     },
     "execution_count": 9,
     "metadata": {},
     "output_type": "execute_result"
    }
   ],
   "source": [
    "np.median(dg)"
   ]
  },
  {
   "cell_type": "code",
   "execution_count": 10,
   "id": "df8667d5-7ec4-44f3-a802-11679c8c5a89",
   "metadata": {},
   "outputs": [
    {
     "data": {
      "text/plain": [
       "np.float64(120.74305555555553)"
      ]
     },
     "execution_count": 10,
     "metadata": {},
     "output_type": "execute_result"
    }
   ],
   "source": [
    "np.var(dg)"
   ]
  },
  {
   "cell_type": "code",
   "execution_count": 11,
   "id": "141132d7-e241-409a-b931-4174dcad774a",
   "metadata": {},
   "outputs": [
    {
     "data": {
      "text/plain": [
       "np.float64(10.988314500211374)"
      ]
     },
     "execution_count": 11,
     "metadata": {},
     "output_type": "execute_result"
    }
   ],
   "source": [
    "np.std(dg)"
   ]
  },
  {
   "cell_type": "markdown",
   "id": "5bdf6ad9-eb59-4b06-8c4d-c6f3c24768e8",
   "metadata": {},
   "source": [
    "## The End 👍."
   ]
  }
 ],
 "metadata": {
  "kernelspec": {
   "display_name": "Python 3 (ipykernel)",
   "language": "python",
   "name": "python3"
  },
  "language_info": {
   "codemirror_mode": {
    "name": "ipython",
    "version": 3
   },
   "file_extension": ".py",
   "mimetype": "text/x-python",
   "name": "python",
   "nbconvert_exporter": "python",
   "pygments_lexer": "ipython3",
   "version": "3.12.3"
  }
 },
 "nbformat": 4,
 "nbformat_minor": 5
}
