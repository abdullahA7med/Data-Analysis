{
 "cells": [
  {
   "cell_type": "markdown",
   "id": "8694c137-2943-4208-b17e-7211ed983493",
   "metadata": {},
   "source": [
    "# Numpy"
   ]
  },
  {
   "cell_type": "markdown",
   "id": "818faed0-3f58-4c11-85f1-57278850a3c4",
   "metadata": {},
   "source": [
    "## copyping array"
   ]
  },
  {
   "cell_type": "code",
   "execution_count": 1,
   "id": "668dd2fd-7ae7-44cb-b4c1-27eab801c3d1",
   "metadata": {},
   "outputs": [],
   "source": [
    "import numpy as np"
   ]
  },
  {
   "cell_type": "code",
   "execution_count": 2,
   "id": "b5b61579-89d6-4afd-ab02-2dcbe99d1661",
   "metadata": {},
   "outputs": [
    {
     "data": {
      "text/plain": [
       "array([[ 1,  2,  3],\n",
       "       [11, 21, 14],\n",
       "       [19, 10, 17]])"
      ]
     },
     "execution_count": 2,
     "metadata": {},
     "output_type": "execute_result"
    }
   ],
   "source": [
    "x2 = np.array([[1,2,3],[11,21,14],[19,10,17]])\n",
    "x2"
   ]
  },
  {
   "cell_type": "code",
   "execution_count": 4,
   "id": "c5d7ca5b-e477-4bfb-9d66-775158901d77",
   "metadata": {},
   "outputs": [
    {
     "data": {
      "text/plain": [
       "array([[ 1,  3],\n",
       "       [19, 17]])"
      ]
     },
     "execution_count": 4,
     "metadata": {},
     "output_type": "execute_result"
    }
   ],
   "source": [
    "# No i will do copying (some asssment)\n",
    "\n",
    "x2_sub = x2[0::2,0::2]\n",
    "x2_sub"
   ]
  },
  {
   "cell_type": "code",
   "execution_count": 6,
   "id": "50b6ead2-345f-4a99-abc9-9522a15c83cb",
   "metadata": {},
   "outputs": [
    {
     "name": "stdout",
     "output_type": "stream",
     "text": [
      "[[90  3]\n",
      " [19 17]]\n",
      "\n",
      " ................... \n",
      "\n",
      "[[90  2  3]\n",
      " [11 21 14]\n",
      " [19 10 17]]\n"
     ]
    }
   ],
   "source": [
    "# now if i change the elemint in x2_sub will change in x2 (main array)\n",
    "x2_sub[0,0] = 90\n",
    "print(x2_sub)\n",
    "print('\\n ................... \\n')\n",
    "print(x2)"
   ]
  },
  {
   "cell_type": "markdown",
   "id": "7a45d796-22ad-4ac5-83ad-45acf042c6c3",
   "metadata": {},
   "source": [
    "\n",
    " \n",
    " i dont need that change my main data.\n",
    "- To Fix the in numpy **Use copy**"
   ]
  },
  {
   "cell_type": "code",
   "execution_count": 8,
   "id": "4bdcc465-ae20-45a1-8376-0b7d736705e5",
   "metadata": {},
   "outputs": [
    {
     "data": {
      "text/plain": [
       "array([[90,  3],\n",
       "       [19, 17]])"
      ]
     },
     "execution_count": 8,
     "metadata": {},
     "output_type": "execute_result"
    }
   ],
   "source": [
    "x2_copy = x2[0::2, 0::2].copy()\n",
    "x2_copy"
   ]
  },
  {
   "cell_type": "markdown",
   "id": "235c4e82-1b17-46b3-8804-cd3ddccc3796",
   "metadata": {},
   "source": [
    "## The End."
   ]
  }
 ],
 "metadata": {
  "kernelspec": {
   "display_name": "Python 3 (ipykernel)",
   "language": "python",
   "name": "python3"
  },
  "language_info": {
   "codemirror_mode": {
    "name": "ipython",
    "version": 3
   },
   "file_extension": ".py",
   "mimetype": "text/x-python",
   "name": "python",
   "nbconvert_exporter": "python",
   "pygments_lexer": "ipython3",
   "version": "3.12.3"
  }
 },
 "nbformat": 4,
 "nbformat_minor": 5
}
