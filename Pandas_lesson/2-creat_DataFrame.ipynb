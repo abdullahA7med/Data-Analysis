{
 "cells": [
  {
   "cell_type": "markdown",
   "id": "8879a989-1852-4aa9-acb5-7fea6d6d8737",
   "metadata": {},
   "source": [
    "# Pandas 🐼"
   ]
  },
  {
   "cell_type": "markdown",
   "id": "ec58dbbd-c4fe-4a91-9389-5a61b19a1703",
   "metadata": {},
   "source": [
    "as we know pandas used for analysis data, deal with tabular data.\n",
    "\n",
    "**Most time you deal with dataFrame**"
   ]
  },
  {
   "cell_type": "code",
   "execution_count": 1,
   "id": "04838eed-cf93-40d0-8c09-ffb9693baa30",
   "metadata": {},
   "outputs": [],
   "source": [
    "import pandas as pd\n",
    "import numpy as np"
   ]
  },
  {
   "cell_type": "markdown",
   "id": "4cdc5b7d-29c7-4c5a-9b9b-3f5ae9aa33b4",
   "metadata": {},
   "source": [
    "### 1. creat DataFrame from Series."
   ]
  },
  {
   "cell_type": "code",
   "execution_count": 2,
   "id": "6d2b6057-06fc-4a36-be0e-3a792787f90c",
   "metadata": {},
   "outputs": [],
   "source": [
    "population_dict = {'Baghdad':7655695,\n",
    "                  'Tunis':633894,\n",
    "                  'Riyadh':7678935,\n",
    "                  'Cairo':9568232}\n",
    "\n",
    "population = pd.Series(population_dict)\n",
    "\n",
    "area_dict = {'Baghdad':204,\n",
    "            'Tunis':212,\n",
    "            'Riyadh':1973,\n",
    "            'Cairo':3085}\n",
    "\n",
    "area = pd.Series(area_dict)"
   ]
  },
  {
   "cell_type": "code",
   "execution_count": 3,
   "id": "5598855b-11d1-444d-b146-a95f3f642288",
   "metadata": {},
   "outputs": [
    {
     "data": {
      "text/html": [
       "<div>\n",
       "<style scoped>\n",
       "    .dataframe tbody tr th:only-of-type {\n",
       "        vertical-align: middle;\n",
       "    }\n",
       "\n",
       "    .dataframe tbody tr th {\n",
       "        vertical-align: top;\n",
       "    }\n",
       "\n",
       "    .dataframe thead th {\n",
       "        text-align: right;\n",
       "    }\n",
       "</style>\n",
       "<table border=\"1\" class=\"dataframe\">\n",
       "  <thead>\n",
       "    <tr style=\"text-align: right;\">\n",
       "      <th></th>\n",
       "      <th>population</th>\n",
       "      <th>area</th>\n",
       "    </tr>\n",
       "  </thead>\n",
       "  <tbody>\n",
       "    <tr>\n",
       "      <th>Baghdad</th>\n",
       "      <td>7655695</td>\n",
       "      <td>204</td>\n",
       "    </tr>\n",
       "    <tr>\n",
       "      <th>Tunis</th>\n",
       "      <td>633894</td>\n",
       "      <td>212</td>\n",
       "    </tr>\n",
       "    <tr>\n",
       "      <th>Riyadh</th>\n",
       "      <td>7678935</td>\n",
       "      <td>1973</td>\n",
       "    </tr>\n",
       "    <tr>\n",
       "      <th>Cairo</th>\n",
       "      <td>9568232</td>\n",
       "      <td>3085</td>\n",
       "    </tr>\n",
       "  </tbody>\n",
       "</table>\n",
       "</div>"
      ],
      "text/plain": [
       "         population  area\n",
       "Baghdad     7655695   204\n",
       "Tunis        633894   212\n",
       "Riyadh      7678935  1973\n",
       "Cairo       9568232  3085"
      ]
     },
     "execution_count": 3,
     "metadata": {},
     "output_type": "execute_result"
    }
   ],
   "source": [
    "pd.DataFrame({'population' : population, 'area':area})"
   ]
  },
  {
   "cell_type": "markdown",
   "id": "cd5e1f7e-941c-49e8-abff-499ad9654963",
   "metadata": {},
   "source": [
    "........................................................................\n",
    "...........................\n",
    "\n",
    "### 2. From python dictionaries\n",
    "(most usage)"
   ]
  },
  {
   "cell_type": "code",
   "execution_count": 5,
   "id": "443acbbf-2bbf-46bf-beda-b9a816c59391",
   "metadata": {},
   "outputs": [
    {
     "data": {
      "text/html": [
       "<div>\n",
       "<style scoped>\n",
       "    .dataframe tbody tr th:only-of-type {\n",
       "        vertical-align: middle;\n",
       "    }\n",
       "\n",
       "    .dataframe tbody tr th {\n",
       "        vertical-align: top;\n",
       "    }\n",
       "\n",
       "    .dataframe thead th {\n",
       "        text-align: right;\n",
       "    }\n",
       "</style>\n",
       "<table border=\"1\" class=\"dataframe\">\n",
       "  <thead>\n",
       "    <tr style=\"text-align: right;\">\n",
       "      <th></th>\n",
       "      <th>population</th>\n",
       "      <th>area</th>\n",
       "    </tr>\n",
       "  </thead>\n",
       "  <tbody>\n",
       "    <tr>\n",
       "      <th>0</th>\n",
       "      <td>7655695</td>\n",
       "      <td>204</td>\n",
       "    </tr>\n",
       "    <tr>\n",
       "      <th>1</th>\n",
       "      <td>633894</td>\n",
       "      <td>212</td>\n",
       "    </tr>\n",
       "    <tr>\n",
       "      <th>2</th>\n",
       "      <td>7678935</td>\n",
       "      <td>1973</td>\n",
       "    </tr>\n",
       "    <tr>\n",
       "      <th>3</th>\n",
       "      <td>9568232</td>\n",
       "      <td>3085</td>\n",
       "    </tr>\n",
       "  </tbody>\n",
       "</table>\n",
       "</div>"
      ],
      "text/plain": [
       "   population  area\n",
       "0     7655695   204\n",
       "1      633894   212\n",
       "2     7678935  1973\n",
       "3     9568232  3085"
      ]
     },
     "execution_count": 5,
     "metadata": {},
     "output_type": "execute_result"
    }
   ],
   "source": [
    "pd.DataFrame({'population':[7655695,633894,7678935,9568232],\n",
    "             'area':[204,212,1973,3085]})\n",
    "\n",
    "# To add lable to index. -> use index=[]\n"
   ]
  },
  {
   "cell_type": "code",
   "execution_count": 8,
   "id": "bd78610d-0750-4bfd-90db-a91234c9e984",
   "metadata": {},
   "outputs": [
    {
     "data": {
      "text/html": [
       "<div>\n",
       "<style scoped>\n",
       "    .dataframe tbody tr th:only-of-type {\n",
       "        vertical-align: middle;\n",
       "    }\n",
       "\n",
       "    .dataframe tbody tr th {\n",
       "        vertical-align: top;\n",
       "    }\n",
       "\n",
       "    .dataframe thead th {\n",
       "        text-align: right;\n",
       "    }\n",
       "</style>\n",
       "<table border=\"1\" class=\"dataframe\">\n",
       "  <thead>\n",
       "    <tr style=\"text-align: right;\">\n",
       "      <th></th>\n",
       "      <th>population</th>\n",
       "      <th>area</th>\n",
       "    </tr>\n",
       "  </thead>\n",
       "  <tbody>\n",
       "    <tr>\n",
       "      <th>Baghdad</th>\n",
       "      <td>7655695</td>\n",
       "      <td>204</td>\n",
       "    </tr>\n",
       "    <tr>\n",
       "      <th>Tunis</th>\n",
       "      <td>633894</td>\n",
       "      <td>212</td>\n",
       "    </tr>\n",
       "    <tr>\n",
       "      <th>Riyadh</th>\n",
       "      <td>7678935</td>\n",
       "      <td>1973</td>\n",
       "    </tr>\n",
       "    <tr>\n",
       "      <th>Cairo</th>\n",
       "      <td>9568232</td>\n",
       "      <td>3085</td>\n",
       "    </tr>\n",
       "  </tbody>\n",
       "</table>\n",
       "</div>"
      ],
      "text/plain": [
       "         population  area\n",
       "Baghdad     7655695   204\n",
       "Tunis        633894   212\n",
       "Riyadh      7678935  1973\n",
       "Cairo       9568232  3085"
      ]
     },
     "execution_count": 8,
     "metadata": {},
     "output_type": "execute_result"
    }
   ],
   "source": [
    "data = pd.DataFrame({'population':[7655695,633894,7678935,9568232],\n",
    "             'area':[204,212,1973,3085]},index=['Baghdad','Tunis','Riyadh','Cairo'])\n",
    "\n",
    "data"
   ]
  },
  {
   "cell_type": "markdown",
   "id": "8e6efca7-992a-4ae0-98cb-e0bfa41f0d86",
   "metadata": {},
   "source": [
    "----------------\n",
    "\n",
    "----------------"
   ]
  },
  {
   "cell_type": "markdown",
   "id": "4672dda5-c35c-4284-9021-5e5dab4a3ed5",
   "metadata": {},
   "source": [
    "### 3.Get the index lables\n",
    "\n",
    " you have data need to know name of rows."
   ]
  },
  {
   "cell_type": "code",
   "execution_count": 9,
   "id": "149b7cd5-70cc-4865-9e7b-11800bd749cd",
   "metadata": {},
   "outputs": [
    {
     "data": {
      "text/plain": [
       "Index(['Baghdad', 'Tunis', 'Riyadh', 'Cairo'], dtype='object')"
      ]
     },
     "execution_count": 9,
     "metadata": {},
     "output_type": "execute_result"
    }
   ],
   "source": [
    "data.index"
   ]
  },
  {
   "cell_type": "markdown",
   "id": "6707d213-07d8-40c4-aad8-25957975b611",
   "metadata": {},
   "source": [
    "\n",
    "\n",
    "-.................................................................................\n",
    "- **Get the columns names**"
   ]
  },
  {
   "cell_type": "code",
   "execution_count": 10,
   "id": "69accd38-ce1b-4e4c-abd3-3222dc5463a8",
   "metadata": {},
   "outputs": [
    {
     "data": {
      "text/plain": [
       "Index(['population', 'area'], dtype='object')"
      ]
     },
     "execution_count": 10,
     "metadata": {},
     "output_type": "execute_result"
    }
   ],
   "source": [
    "data.columns"
   ]
  },
  {
   "cell_type": "markdown",
   "id": "d6f15ba0-f242-4b58-9f61-70fd7163b602",
   "metadata": {},
   "source": [
    ".............\n",
    ".................................................\n",
    "\n",
    "..................................................\n",
    "\n",
    "\n",
    "- now have data need to get spescific column\n"
   ]
  },
  {
   "cell_type": "code",
   "execution_count": 11,
   "id": "29113ab2-4466-41cb-95f0-8bcd99b6f9f5",
   "metadata": {},
   "outputs": [
    {
     "data": {
      "text/plain": [
       "Baghdad     204\n",
       "Tunis       212\n",
       "Riyadh     1973\n",
       "Cairo      3085\n",
       "Name: area, dtype: int64"
      ]
     },
     "execution_count": 11,
     "metadata": {},
     "output_type": "execute_result"
    }
   ],
   "source": [
    "data['area'] #return all elemint in area"
   ]
  },
  {
   "cell_type": "code",
   "execution_count": 12,
   "id": "5715c06c-a1cb-4715-a756-d6332d01fa6b",
   "metadata": {},
   "outputs": [
    {
     "data": {
      "text/plain": [
       "np.int64(3085)"
      ]
     },
     "execution_count": 12,
     "metadata": {},
     "output_type": "execute_result"
    }
   ],
   "source": [
    "# ..................................\n",
    "# .. get the area of spesific row ..\n",
    "# ..................................\n",
    "\n",
    "data['area']['Cairo']"
   ]
  },
  {
   "cell_type": "code",
   "execution_count": 13,
   "id": "d5b78ee1-b14f-42d4-99d3-8359812a34eb",
   "metadata": {},
   "outputs": [
    {
     "data": {
      "text/html": [
       "<div>\n",
       "<style scoped>\n",
       "    .dataframe tbody tr th:only-of-type {\n",
       "        vertical-align: middle;\n",
       "    }\n",
       "\n",
       "    .dataframe tbody tr th {\n",
       "        vertical-align: top;\n",
       "    }\n",
       "\n",
       "    .dataframe thead th {\n",
       "        text-align: right;\n",
       "    }\n",
       "</style>\n",
       "<table border=\"1\" class=\"dataframe\">\n",
       "  <thead>\n",
       "    <tr style=\"text-align: right;\">\n",
       "      <th></th>\n",
       "      <th>0</th>\n",
       "    </tr>\n",
       "  </thead>\n",
       "  <tbody>\n",
       "    <tr>\n",
       "      <th>Baghdad</th>\n",
       "      <td>204</td>\n",
       "    </tr>\n",
       "    <tr>\n",
       "      <th>Tunis</th>\n",
       "      <td>212</td>\n",
       "    </tr>\n",
       "    <tr>\n",
       "      <th>Riyadh</th>\n",
       "      <td>1973</td>\n",
       "    </tr>\n",
       "    <tr>\n",
       "      <th>Cairo</th>\n",
       "      <td>3085</td>\n",
       "    </tr>\n",
       "  </tbody>\n",
       "</table>\n",
       "</div>"
      ],
      "text/plain": [
       "            0\n",
       "Baghdad   204\n",
       "Tunis     212\n",
       "Riyadh   1973\n",
       "Cairo    3085"
      ]
     },
     "execution_count": 13,
     "metadata": {},
     "output_type": "execute_result"
    }
   ],
   "source": [
    "# ..........................................\n",
    "# ... creat dataFrame from single series ...\n",
    "# ..........................................\n",
    "\n",
    "pd.DataFrame(area)"
   ]
  },
  {
   "cell_type": "markdown",
   "id": "cac4b8d1-0168-46a8-8805-3c8e785a6ccd",
   "metadata": {},
   "source": [
    "## The End. 👍"
   ]
  }
 ],
 "metadata": {
  "kernelspec": {
   "display_name": "Python 3 (ipykernel)",
   "language": "python",
   "name": "python3"
  },
  "language_info": {
   "codemirror_mode": {
    "name": "ipython",
    "version": 3
   },
   "file_extension": ".py",
   "mimetype": "text/x-python",
   "name": "python",
   "nbconvert_exporter": "python",
   "pygments_lexer": "ipython3",
   "version": "3.12.3"
  }
 },
 "nbformat": 4,
 "nbformat_minor": 5
}
