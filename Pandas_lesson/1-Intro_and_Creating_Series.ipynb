{
 "cells": [
  {
   "cell_type": "markdown",
   "id": "53ba3187-1bce-4da8-b46d-1502130689e2",
   "metadata": {},
   "source": [
    "# Pandas 🐼"
   ]
  },
  {
   "cell_type": "markdown",
   "id": "e37f2b6d-9f82-46b3-b9fc-fac707cf5a4d",
   "metadata": {},
   "source": [
    "- as we know numpy very usefull when deal with numerical data, so from numpy created Pandas.\n",
    "- **Pandas powerfull when deal with tabular data( excl file, csv, json)**"
   ]
  },
  {
   "cell_type": "markdown",
   "id": "7495d9a2-505b-4803-a80d-08f739eb333c",
   "metadata": {},
   "source": [
    "#### Pandas object:\n",
    "\n",
    " **in pandas there are 2 object :**\n",
    " \n",
    "- series\n",
    "- DataFrame"
   ]
  },
  {
   "cell_type": "markdown",
   "id": "bf8271e2-a5b4-4fb4-8e90-cf96d1002fc0",
   "metadata": {},
   "source": [
    "-------------------------------------------\n",
    "\n",
    "--------------------------------------------"
   ]
  },
  {
   "cell_type": "markdown",
   "id": "b54e911f-0ad9-401a-8192-4edb7549679b",
   "metadata": {},
   "source": [
    "1) **Series** : can image it like 1D array (with lable)\n",
    "\n",
    ".........................................................................................\n",
    "   \n",
    "3) **DataFrame** : can image it like 2D array"
   ]
  },
  {
   "cell_type": "code",
   "execution_count": 4,
   "id": "05f35af9-1419-4c9d-bc41-2a991c4b3d83",
   "metadata": {},
   "outputs": [],
   "source": [
    "import pandas as pd\n",
    "import numpy as np"
   ]
  },
  {
   "cell_type": "markdown",
   "id": "5a3b3114-f022-45f3-9058-a9672b977a51",
   "metadata": {},
   "source": [
    "## Series object"
   ]
  },
  {
   "cell_type": "markdown",
   "id": "2136743a-175e-4ad1-b7e4-2727d3ac3727",
   "metadata": {},
   "source": [
    " **1. Create series from a list.**"
   ]
  },
  {
   "cell_type": "code",
   "execution_count": 5,
   "id": "9dd4c264-5997-405c-a672-97c779211488",
   "metadata": {},
   "outputs": [
    {
     "data": {
      "text/plain": [
       "0    1\n",
       "1    2\n",
       "2    3\n",
       "3    4\n",
       "4    5\n",
       "dtype: int64"
      ]
     },
     "execution_count": 5,
     "metadata": {},
     "output_type": "execute_result"
    }
   ],
   "source": [
    "data = pd.Series([1,2,3,4,5])\n",
    "data\n",
    "# after click enter the list side in series is a lable for data (can change it to string)."
   ]
  },
  {
   "cell_type": "markdown",
   "id": "ed17f27d-1ccc-4ea5-b2cf-e872f5782d4e",
   "metadata": {},
   "source": [
    "\n",
    "-.........................................\n",
    "\n",
    "**2. convert it to Numpy array**   \n",
    "\n",
    "- To convert it we use -> values "
   ]
  },
  {
   "cell_type": "code",
   "execution_count": 6,
   "id": "946129e8-56b0-474f-a99a-133dc64df87d",
   "metadata": {},
   "outputs": [
    {
     "data": {
      "text/plain": [
       "array([1, 2, 3, 4, 5])"
      ]
     },
     "execution_count": 6,
     "metadata": {},
     "output_type": "execute_result"
    }
   ],
   "source": [
    "data.values"
   ]
  },
  {
   "cell_type": "markdown",
   "id": "35e3cb4b-309d-4848-9b22-07e8c22a2b52",
   "metadata": {},
   "source": [
    "---------------\n",
    "\n",
    "-----------------"
   ]
  },
  {
   "cell_type": "markdown",
   "id": "0770b753-245c-4216-8de7-f91d09a67406",
   "metadata": {},
   "source": [
    "### Series indexing"
   ]
  },
  {
   "cell_type": "code",
   "execution_count": 7,
   "id": "6f7e2856-c01b-4660-ba8e-92c729e471ad",
   "metadata": {},
   "outputs": [
    {
     "data": {
      "text/plain": [
       "np.int64(3)"
      ]
     },
     "execution_count": 7,
     "metadata": {},
     "output_type": "execute_result"
    }
   ],
   "source": [
    "data[2]"
   ]
  },
  {
   "cell_type": "code",
   "execution_count": 8,
   "id": "b6b3d3d2-b319-4707-b775-db76cae3d13f",
   "metadata": {},
   "outputs": [
    {
     "data": {
      "text/plain": [
       "np.int64(1)"
      ]
     },
     "execution_count": 8,
     "metadata": {},
     "output_type": "execute_result"
    }
   ],
   "source": [
    "data[0]"
   ]
  },
  {
   "cell_type": "markdown",
   "id": "6fe4fe1b-aab1-438f-b2b9-e5862b30b5c8",
   "metadata": {},
   "source": [
    "### Custom indexing\n",
    "\n",
    "- here type custom index(lable) to series."
   ]
  },
  {
   "cell_type": "code",
   "execution_count": 9,
   "id": "8a857a82-c55e-4c7d-8501-2585b87225a6",
   "metadata": {},
   "outputs": [
    {
     "data": {
      "text/plain": [
       "fi      1\n",
       "sec     2\n",
       "th      3\n",
       "four    4\n",
       "fiv     5\n",
       "dtype: int64"
      ]
     },
     "execution_count": 9,
     "metadata": {},
     "output_type": "execute_result"
    }
   ],
   "source": [
    "data = pd.Series([1,2,3,4,5], index=['fi','sec','th','four','fiv'])\n",
    "data"
   ]
  },
  {
   "cell_type": "code",
   "execution_count": 10,
   "id": "c6142286-2b9b-4b91-8e5e-fd4e67fa03e2",
   "metadata": {},
   "outputs": [
    {
     "data": {
      "text/plain": [
       "np.int64(1)"
      ]
     },
     "execution_count": 10,
     "metadata": {},
     "output_type": "execute_result"
    }
   ],
   "source": [
    "data['fi']"
   ]
  },
  {
   "cell_type": "code",
   "execution_count": 11,
   "id": "b1ab3d92-2a1a-4130-b68e-300caa8fdd37",
   "metadata": {},
   "outputs": [
    {
     "name": "stdout",
     "output_type": "stream",
     "text": [
      "2\n"
     ]
    }
   ],
   "source": [
    "print(data['sec'])"
   ]
  },
  {
   "cell_type": "markdown",
   "id": "ed0b3804-f68f-4cec-bcac-2fc0eec7a966",
   "metadata": {},
   "source": [
    "--------------------\n",
    "\n",
    "-----------------"
   ]
  },
  {
   "cell_type": "markdown",
   "id": "c40e5910-c071-4ef4-815d-298a316073b0",
   "metadata": {},
   "source": [
    "### Series from python dictionary"
   ]
  },
  {
   "cell_type": "code",
   "execution_count": 13,
   "id": "af78b6cc-e333-4eb7-8da3-b1deef816b47",
   "metadata": {},
   "outputs": [
    {
     "data": {
      "text/plain": [
       "{'California': 38332521,\n",
       " 'Texas': 26448193,\n",
       " 'New York': 19651127,\n",
       " 'Florida': 19552860,\n",
       " 'Illinois': 12882135}"
      ]
     },
     "execution_count": 13,
     "metadata": {},
     "output_type": "execute_result"
    }
   ],
   "source": [
    "population_dict = {'California':38332521,\n",
    "                   'Texas': 26448193,\n",
    "                   'New York': 19651127,\n",
    "                   'Florida': 19552860,\n",
    "                   'Illinois': 12882135}\n",
    "\n",
    "population_dict"
   ]
  },
  {
   "cell_type": "code",
   "execution_count": 16,
   "id": "61585b47-ea1d-4faf-9643-c411c5957be0",
   "metadata": {},
   "outputs": [
    {
     "data": {
      "text/plain": [
       "California    38332521\n",
       "Texas         26448193\n",
       "New York      19651127\n",
       "Florida       19552860\n",
       "Illinois      12882135\n",
       "dtype: int64"
      ]
     },
     "execution_count": 16,
     "metadata": {},
     "output_type": "execute_result"
    }
   ],
   "source": [
    "population_series = pd.Series(population_dict)\n",
    "population_series"
   ]
  },
  {
   "cell_type": "markdown",
   "id": "cfbfb3a2-1235-4d9a-9845-ec55a71e073a",
   "metadata": {},
   "source": [
    "--------------------------\n",
    "\n",
    "--------"
   ]
  },
  {
   "cell_type": "markdown",
   "id": "104fc0be-9b7e-4de8-a06e-2b76c41f9e2d",
   "metadata": {},
   "source": [
    "### Slicing in series"
   ]
  },
  {
   "cell_type": "code",
   "execution_count": 17,
   "id": "59985ec4-590a-4de9-8e4e-e3c8a7259b0d",
   "metadata": {},
   "outputs": [
    {
     "data": {
      "text/plain": [
       "np.int64(26448193)"
      ]
     },
     "execution_count": 17,
     "metadata": {},
     "output_type": "execute_result"
    }
   ],
   "source": [
    "population_series['Texas']"
   ]
  },
  {
   "cell_type": "code",
   "execution_count": 18,
   "id": "7fae5db3-10b3-4b4b-8329-de31952930ee",
   "metadata": {},
   "outputs": [
    {
     "name": "stdout",
     "output_type": "stream",
     "text": [
      "Texas       26448193\n",
      "New York    19651127\n",
      "Florida     19552860\n",
      "Illinois    12882135\n",
      "dtype: int64\n"
     ]
    }
   ],
   "source": [
    "print(population_series['Texas':'Illinois'])"
   ]
  },
  {
   "cell_type": "code",
   "execution_count": 19,
   "id": "6ef695ad-ad5e-41bb-aca2-e8b0945884d0",
   "metadata": {},
   "outputs": [
    {
     "name": "stdout",
     "output_type": "stream",
     "text": [
      "California    38332521\n",
      "Texas         26448193\n",
      "New York      19651127\n",
      "Florida       19552860\n",
      "Illinois      12882135\n",
      "dtype: int64\n"
     ]
    }
   ],
   "source": [
    "print(population_series['California':])"
   ]
  },
  {
   "cell_type": "markdown",
   "id": "e13c8069-2cce-458b-8aec-a4be0088cfe8",
   "metadata": {},
   "source": [
    "## The End."
   ]
  }
 ],
 "metadata": {
  "kernelspec": {
   "display_name": "Python 3 (ipykernel)",
   "language": "python",
   "name": "python3"
  },
  "language_info": {
   "codemirror_mode": {
    "name": "ipython",
    "version": 3
   },
   "file_extension": ".py",
   "mimetype": "text/x-python",
   "name": "python",
   "nbconvert_exporter": "python",
   "pygments_lexer": "ipython3",
   "version": "3.12.3"
  }
 },
 "nbformat": 4,
 "nbformat_minor": 5
}
